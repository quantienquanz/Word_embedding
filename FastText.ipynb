{
  "nbformat": 4,
  "nbformat_minor": 0,
  "metadata": {
    "colab": {
      "provenance": []
    },
    "kernelspec": {
      "name": "python3",
      "display_name": "Python 3"
    },
    "language_info": {
      "name": "python"
    }
  },
  "cells": [
    {
      "cell_type": "code",
      "source": [
        "from google.colab import drive\n",
        "drive.mount('/content/drive')"
      ],
      "metadata": {
        "colab": {
          "base_uri": "https://localhost:8080/"
        },
        "id": "waxDT7iiuR4X",
        "outputId": "340e93fc-47ad-421f-9ea1-2ad71516c55b"
      },
      "execution_count": 2,
      "outputs": [
        {
          "output_type": "stream",
          "name": "stdout",
          "text": [
            "Drive already mounted at /content/drive; to attempt to forcibly remount, call drive.mount(\"/content/drive\", force_remount=True).\n"
          ]
        }
      ]
    },
    {
      "cell_type": "code",
      "source": [
        "pip install pyvi"
      ],
      "metadata": {
        "colab": {
          "base_uri": "https://localhost:8080/"
        },
        "id": "MDRrcDunupEK",
        "outputId": "3d5b8966-ef97-4993-d1e1-2ff65887d03d"
      },
      "execution_count": 3,
      "outputs": [
        {
          "output_type": "stream",
          "name": "stdout",
          "text": [
            "Collecting pyvi\n",
            "  Downloading pyvi-0.1.1-py2.py3-none-any.whl (8.5 MB)\n",
            "\u001b[?25l     \u001b[90m━━━━━━━━━━━━━━━━━━━━━━━━━━━━━━━━━━━━━━━━\u001b[0m \u001b[32m0.0/8.5 MB\u001b[0m \u001b[31m?\u001b[0m eta \u001b[36m-:--:--\u001b[0m\r\u001b[2K     \u001b[91m━━━━━━━━━━━━━━\u001b[0m\u001b[91m╸\u001b[0m\u001b[90m━━━━━━━━━━━━━━━━━━━━━━━━━\u001b[0m \u001b[32m3.1/8.5 MB\u001b[0m \u001b[31m115.6 MB/s\u001b[0m eta \u001b[36m0:00:01\u001b[0m\r\u001b[2K     \u001b[91m━━━━━━━━━━━━━━━━━━━━━━━━━━━━━━━━━━━━━━━\u001b[0m\u001b[90m╺\u001b[0m \u001b[32m8.3/8.5 MB\u001b[0m \u001b[31m120.6 MB/s\u001b[0m eta \u001b[36m0:00:01\u001b[0m\r\u001b[2K     \u001b[90m━━━━━━━━━━━━━━━━━━━━━━━━━━━━━━━━━━━━━━━━\u001b[0m \u001b[32m8.5/8.5 MB\u001b[0m \u001b[31m84.2 MB/s\u001b[0m eta \u001b[36m0:00:00\u001b[0m\n",
            "\u001b[?25hRequirement already satisfied: scikit-learn in /usr/local/lib/python3.10/dist-packages (from pyvi) (1.2.2)\n",
            "Collecting sklearn-crfsuite (from pyvi)\n",
            "  Downloading sklearn_crfsuite-0.3.6-py2.py3-none-any.whl (12 kB)\n",
            "Requirement already satisfied: numpy>=1.17.3 in /usr/local/lib/python3.10/dist-packages (from scikit-learn->pyvi) (1.22.4)\n",
            "Requirement already satisfied: scipy>=1.3.2 in /usr/local/lib/python3.10/dist-packages (from scikit-learn->pyvi) (1.10.1)\n",
            "Requirement already satisfied: joblib>=1.1.1 in /usr/local/lib/python3.10/dist-packages (from scikit-learn->pyvi) (1.3.1)\n",
            "Requirement already satisfied: threadpoolctl>=2.0.0 in /usr/local/lib/python3.10/dist-packages (from scikit-learn->pyvi) (3.1.0)\n",
            "Collecting python-crfsuite>=0.8.3 (from sklearn-crfsuite->pyvi)\n",
            "  Downloading python_crfsuite-0.9.9-cp310-cp310-manylinux_2_17_x86_64.manylinux2014_x86_64.whl (993 kB)\n",
            "\u001b[2K     \u001b[90m━━━━━━━━━━━━━━━━━━━━━━━━━━━━━━━━━━━━━━\u001b[0m \u001b[32m993.5/993.5 kB\u001b[0m \u001b[31m73.3 MB/s\u001b[0m eta \u001b[36m0:00:00\u001b[0m\n",
            "\u001b[?25hRequirement already satisfied: six in /usr/local/lib/python3.10/dist-packages (from sklearn-crfsuite->pyvi) (1.16.0)\n",
            "Requirement already satisfied: tabulate in /usr/local/lib/python3.10/dist-packages (from sklearn-crfsuite->pyvi) (0.8.10)\n",
            "Requirement already satisfied: tqdm>=2.0 in /usr/local/lib/python3.10/dist-packages (from sklearn-crfsuite->pyvi) (4.65.0)\n",
            "Installing collected packages: python-crfsuite, sklearn-crfsuite, pyvi\n",
            "Successfully installed python-crfsuite-0.9.9 pyvi-0.1.1 sklearn-crfsuite-0.3.6\n"
          ]
        }
      ]
    },
    {
      "cell_type": "code",
      "source": [
        "import os\n",
        "import pandas as pd\n",
        "\n",
        "from gensim.models import Word2Vec, Phrases\n",
        "from gensim.models.fasttext import FastText\n",
        "from pyvi import ViTokenizer\n",
        "from gensim.models.phrases import Phrases, Phraser"
      ],
      "metadata": {
        "id": "SCFtSaERaOl5"
      },
      "execution_count": 18,
      "outputs": []
    },
    {
      "cell_type": "code",
      "source": [
        "pathdata = '/content/drive/MyDrive/Data full/merged_data (2).txt'\n",
        "stopwords_path = '/content/drive/MyDrive/Data full/stopwords.csv'\n",
        "\n",
        "model_path = '/content/drive/MyDrive/Data full/fastText_model.model'"
      ],
      "metadata": {
        "id": "xO1Nav4fuaB3"
      },
      "execution_count": 5,
      "outputs": []
    },
    {
      "cell_type": "code",
      "source": [
        "# Đọc dữ liệu từ file\n",
        "train_data = pd.read_csv(pathdata, delimiter='\\t', header=None, names=['text'])\n",
        "train_data['text_tokenized'] = train_data['text'].apply(ViTokenizer.tokenize)\n",
        "train_data"
      ],
      "metadata": {
        "colab": {
          "base_uri": "https://localhost:8080/",
          "height": 424
        },
        "id": "eD4EIlQTubYj",
        "outputId": "863b3567-d56f-4a3a-da41-7810141678cb"
      },
      "execution_count": 6,
      "outputs": [
        {
          "output_type": "execute_result",
          "data": {
            "text/plain": [
              "                                                    text  \\\n",
              "0      Việt Nam  quốc hiệu là Cộng hòa Xã hội chủ ngh...   \n",
              "1      Lãnh thổ Việt Nam xuất hiện con người sinh sốn...   \n",
              "2      Đến thời kỳ cận đại  Việt Nam lần lượt trải qu...   \n",
              "3      Sau khi thống nhất  Việt Nam tiếp tục gặp khó ...   \n",
              "4                                                Tên gọi   \n",
              "...                                                  ...   \n",
              "12232                             Y học   Gerhard Domagk   \n",
              "12233                    Văn học   Frans Eemil Sillanpää   \n",
              "12234                           Hòa bình   không có giải   \n",
              "12235                                           Xem thêm   \n",
              "12236                                       Tham khảo      \n",
              "\n",
              "                                          text_tokenized  \n",
              "0      Việt_Nam quốc_hiệu là Cộng_hòa Xã_hội chủ_nghĩ...  \n",
              "1      Lãnh_thổ Việt_Nam xuất_hiện con_người sinh_sốn...  \n",
              "2      Đến thời_kỳ cận_đại Việt_Nam lần_lượt trải qua...  \n",
              "3      Sau khi thống_nhất Việt_Nam tiếp_tục gặp khó_k...  \n",
              "4                                                Tên gọi  \n",
              "...                                                  ...  \n",
              "12232                               Y_học Gerhard_Domagk  \n",
              "12233                      Văn_học Frans Eemil_Sillanpää  \n",
              "12234                             Hòa_bình không có giải  \n",
              "12235                                           Xem thêm  \n",
              "12236                                          Tham_khảo  \n",
              "\n",
              "[12237 rows x 2 columns]"
            ],
            "text/html": [
              "\n",
              "\n",
              "  <div id=\"df-2249e468-76b0-47e8-a131-8c40897923d6\">\n",
              "    <div class=\"colab-df-container\">\n",
              "      <div>\n",
              "<style scoped>\n",
              "    .dataframe tbody tr th:only-of-type {\n",
              "        vertical-align: middle;\n",
              "    }\n",
              "\n",
              "    .dataframe tbody tr th {\n",
              "        vertical-align: top;\n",
              "    }\n",
              "\n",
              "    .dataframe thead th {\n",
              "        text-align: right;\n",
              "    }\n",
              "</style>\n",
              "<table border=\"1\" class=\"dataframe\">\n",
              "  <thead>\n",
              "    <tr style=\"text-align: right;\">\n",
              "      <th></th>\n",
              "      <th>text</th>\n",
              "      <th>text_tokenized</th>\n",
              "    </tr>\n",
              "  </thead>\n",
              "  <tbody>\n",
              "    <tr>\n",
              "      <th>0</th>\n",
              "      <td>Việt Nam  quốc hiệu là Cộng hòa Xã hội chủ ngh...</td>\n",
              "      <td>Việt_Nam quốc_hiệu là Cộng_hòa Xã_hội chủ_nghĩ...</td>\n",
              "    </tr>\n",
              "    <tr>\n",
              "      <th>1</th>\n",
              "      <td>Lãnh thổ Việt Nam xuất hiện con người sinh sốn...</td>\n",
              "      <td>Lãnh_thổ Việt_Nam xuất_hiện con_người sinh_sốn...</td>\n",
              "    </tr>\n",
              "    <tr>\n",
              "      <th>2</th>\n",
              "      <td>Đến thời kỳ cận đại  Việt Nam lần lượt trải qu...</td>\n",
              "      <td>Đến thời_kỳ cận_đại Việt_Nam lần_lượt trải qua...</td>\n",
              "    </tr>\n",
              "    <tr>\n",
              "      <th>3</th>\n",
              "      <td>Sau khi thống nhất  Việt Nam tiếp tục gặp khó ...</td>\n",
              "      <td>Sau khi thống_nhất Việt_Nam tiếp_tục gặp khó_k...</td>\n",
              "    </tr>\n",
              "    <tr>\n",
              "      <th>4</th>\n",
              "      <td>Tên gọi</td>\n",
              "      <td>Tên gọi</td>\n",
              "    </tr>\n",
              "    <tr>\n",
              "      <th>...</th>\n",
              "      <td>...</td>\n",
              "      <td>...</td>\n",
              "    </tr>\n",
              "    <tr>\n",
              "      <th>12232</th>\n",
              "      <td>Y học   Gerhard Domagk</td>\n",
              "      <td>Y_học Gerhard_Domagk</td>\n",
              "    </tr>\n",
              "    <tr>\n",
              "      <th>12233</th>\n",
              "      <td>Văn học   Frans Eemil Sillanpää</td>\n",
              "      <td>Văn_học Frans Eemil_Sillanpää</td>\n",
              "    </tr>\n",
              "    <tr>\n",
              "      <th>12234</th>\n",
              "      <td>Hòa bình   không có giải</td>\n",
              "      <td>Hòa_bình không có giải</td>\n",
              "    </tr>\n",
              "    <tr>\n",
              "      <th>12235</th>\n",
              "      <td>Xem thêm</td>\n",
              "      <td>Xem thêm</td>\n",
              "    </tr>\n",
              "    <tr>\n",
              "      <th>12236</th>\n",
              "      <td>Tham khảo</td>\n",
              "      <td>Tham_khảo</td>\n",
              "    </tr>\n",
              "  </tbody>\n",
              "</table>\n",
              "<p>12237 rows × 2 columns</p>\n",
              "</div>\n",
              "      <button class=\"colab-df-convert\" onclick=\"convertToInteractive('df-2249e468-76b0-47e8-a131-8c40897923d6')\"\n",
              "              title=\"Convert this dataframe to an interactive table.\"\n",
              "              style=\"display:none;\">\n",
              "\n",
              "  <svg xmlns=\"http://www.w3.org/2000/svg\" height=\"24px\"viewBox=\"0 0 24 24\"\n",
              "       width=\"24px\">\n",
              "    <path d=\"M0 0h24v24H0V0z\" fill=\"none\"/>\n",
              "    <path d=\"M18.56 5.44l.94 2.06.94-2.06 2.06-.94-2.06-.94-.94-2.06-.94 2.06-2.06.94zm-11 1L8.5 8.5l.94-2.06 2.06-.94-2.06-.94L8.5 2.5l-.94 2.06-2.06.94zm10 10l.94 2.06.94-2.06 2.06-.94-2.06-.94-.94-2.06-.94 2.06-2.06.94z\"/><path d=\"M17.41 7.96l-1.37-1.37c-.4-.4-.92-.59-1.43-.59-.52 0-1.04.2-1.43.59L10.3 9.45l-7.72 7.72c-.78.78-.78 2.05 0 2.83L4 21.41c.39.39.9.59 1.41.59.51 0 1.02-.2 1.41-.59l7.78-7.78 2.81-2.81c.8-.78.8-2.07 0-2.86zM5.41 20L4 18.59l7.72-7.72 1.47 1.35L5.41 20z\"/>\n",
              "  </svg>\n",
              "      </button>\n",
              "\n",
              "\n",
              "\n",
              "    <div id=\"df-7ea478f3-6fbd-4708-ae4f-736dbbdd6eed\">\n",
              "      <button class=\"colab-df-quickchart\" onclick=\"quickchart('df-7ea478f3-6fbd-4708-ae4f-736dbbdd6eed')\"\n",
              "              title=\"Suggest charts.\"\n",
              "              style=\"display:none;\">\n",
              "\n",
              "<svg xmlns=\"http://www.w3.org/2000/svg\" height=\"24px\"viewBox=\"0 0 24 24\"\n",
              "     width=\"24px\">\n",
              "    <g>\n",
              "        <path d=\"M19 3H5c-1.1 0-2 .9-2 2v14c0 1.1.9 2 2 2h14c1.1 0 2-.9 2-2V5c0-1.1-.9-2-2-2zM9 17H7v-7h2v7zm4 0h-2V7h2v10zm4 0h-2v-4h2v4z\"/>\n",
              "    </g>\n",
              "</svg>\n",
              "      </button>\n",
              "    </div>\n",
              "\n",
              "<style>\n",
              "  .colab-df-quickchart {\n",
              "    background-color: #E8F0FE;\n",
              "    border: none;\n",
              "    border-radius: 50%;\n",
              "    cursor: pointer;\n",
              "    display: none;\n",
              "    fill: #1967D2;\n",
              "    height: 32px;\n",
              "    padding: 0 0 0 0;\n",
              "    width: 32px;\n",
              "  }\n",
              "\n",
              "  .colab-df-quickchart:hover {\n",
              "    background-color: #E2EBFA;\n",
              "    box-shadow: 0px 1px 2px rgba(60, 64, 67, 0.3), 0px 1px 3px 1px rgba(60, 64, 67, 0.15);\n",
              "    fill: #174EA6;\n",
              "  }\n",
              "\n",
              "  [theme=dark] .colab-df-quickchart {\n",
              "    background-color: #3B4455;\n",
              "    fill: #D2E3FC;\n",
              "  }\n",
              "\n",
              "  [theme=dark] .colab-df-quickchart:hover {\n",
              "    background-color: #434B5C;\n",
              "    box-shadow: 0px 1px 3px 1px rgba(0, 0, 0, 0.15);\n",
              "    filter: drop-shadow(0px 1px 2px rgba(0, 0, 0, 0.3));\n",
              "    fill: #FFFFFF;\n",
              "  }\n",
              "</style>\n",
              "\n",
              "    <script>\n",
              "      async function quickchart(key) {\n",
              "        const containerElement = document.querySelector('#' + key);\n",
              "        const charts = await google.colab.kernel.invokeFunction(\n",
              "            'suggestCharts', [key], {});\n",
              "      }\n",
              "    </script>\n",
              "\n",
              "      <script>\n",
              "\n",
              "function displayQuickchartButton(domScope) {\n",
              "  let quickchartButtonEl =\n",
              "    domScope.querySelector('#df-7ea478f3-6fbd-4708-ae4f-736dbbdd6eed button.colab-df-quickchart');\n",
              "  quickchartButtonEl.style.display =\n",
              "    google.colab.kernel.accessAllowed ? 'block' : 'none';\n",
              "}\n",
              "\n",
              "        displayQuickchartButton(document);\n",
              "      </script>\n",
              "      <style>\n",
              "    .colab-df-container {\n",
              "      display:flex;\n",
              "      flex-wrap:wrap;\n",
              "      gap: 12px;\n",
              "    }\n",
              "\n",
              "    .colab-df-convert {\n",
              "      background-color: #E8F0FE;\n",
              "      border: none;\n",
              "      border-radius: 50%;\n",
              "      cursor: pointer;\n",
              "      display: none;\n",
              "      fill: #1967D2;\n",
              "      height: 32px;\n",
              "      padding: 0 0 0 0;\n",
              "      width: 32px;\n",
              "    }\n",
              "\n",
              "    .colab-df-convert:hover {\n",
              "      background-color: #E2EBFA;\n",
              "      box-shadow: 0px 1px 2px rgba(60, 64, 67, 0.3), 0px 1px 3px 1px rgba(60, 64, 67, 0.15);\n",
              "      fill: #174EA6;\n",
              "    }\n",
              "\n",
              "    [theme=dark] .colab-df-convert {\n",
              "      background-color: #3B4455;\n",
              "      fill: #D2E3FC;\n",
              "    }\n",
              "\n",
              "    [theme=dark] .colab-df-convert:hover {\n",
              "      background-color: #434B5C;\n",
              "      box-shadow: 0px 1px 3px 1px rgba(0, 0, 0, 0.15);\n",
              "      filter: drop-shadow(0px 1px 2px rgba(0, 0, 0, 0.3));\n",
              "      fill: #FFFFFF;\n",
              "    }\n",
              "  </style>\n",
              "\n",
              "      <script>\n",
              "        const buttonEl =\n",
              "          document.querySelector('#df-2249e468-76b0-47e8-a131-8c40897923d6 button.colab-df-convert');\n",
              "        buttonEl.style.display =\n",
              "          google.colab.kernel.accessAllowed ? 'block' : 'none';\n",
              "\n",
              "        async function convertToInteractive(key) {\n",
              "          const element = document.querySelector('#df-2249e468-76b0-47e8-a131-8c40897923d6');\n",
              "          const dataTable =\n",
              "            await google.colab.kernel.invokeFunction('convertToInteractive',\n",
              "                                                     [key], {});\n",
              "          if (!dataTable) return;\n",
              "\n",
              "          const docLinkHtml = 'Like what you see? Visit the ' +\n",
              "            '<a target=\"_blank\" href=https://colab.research.google.com/notebooks/data_table.ipynb>data table notebook</a>'\n",
              "            + ' to learn more about interactive tables.';\n",
              "          element.innerHTML = '';\n",
              "          dataTable['output_type'] = 'display_data';\n",
              "          await google.colab.output.renderOutput(dataTable, element);\n",
              "          const docLink = document.createElement('div');\n",
              "          docLink.innerHTML = docLinkHtml;\n",
              "          element.appendChild(docLink);\n",
              "        }\n",
              "      </script>\n",
              "    </div>\n",
              "  </div>\n"
            ]
          },
          "metadata": {},
          "execution_count": 6
        }
      ]
    },
    {
      "cell_type": "code",
      "source": [
        "# Đọc danh sách stopwords\n",
        "stopwords_data = pd.read_csv(stopwords_path, sep=\"\\t\", encoding='utf-8')\n",
        "stopwords_set = set(stopwords_data['stopwords'])\n",
        "stopwords_data['stopwords'].head()"
      ],
      "metadata": {
        "colab": {
          "base_uri": "https://localhost:8080/"
        },
        "id": "fAqZV0iNvgKe",
        "outputId": "8675d9ba-f3f8-41b7-fc0f-f5c8f9abfc1a"
      },
      "execution_count": 7,
      "outputs": [
        {
          "output_type": "execute_result",
          "data": {
            "text/plain": [
              "0      mà_thôi\n",
              "1       tuy_có\n",
              "2      đâu_như\n",
              "3    quay_bước\n",
              "4      hỏi_lại\n",
              "Name: stopwords, dtype: object"
            ]
          },
          "metadata": {},
          "execution_count": 7
        }
      ]
    },
    {
      "cell_type": "code",
      "source": [
        "# Tiền xử lý dữ liệu\n",
        "train_data['text_cleaned'] = train_data['text_tokenized'].apply(lambda x: ' '.join([word for word in x.split() if word not in stopwords_set]))\n",
        "train_data['text_cleaned']"
      ],
      "metadata": {
        "colab": {
          "base_uri": "https://localhost:8080/"
        },
        "id": "HXalYxIjvksP",
        "outputId": "2fdfcc73-d7a1-4816-b369-e59ed4dba546"
      },
      "execution_count": 8,
      "outputs": [
        {
          "output_type": "execute_result",
          "data": {
            "text/plain": [
              "0        Việt_Nam quốc_hiệu Cộng_hòa Xã_hội chủ_nghĩa V...\n",
              "1        Lãnh_thổ Việt_Nam con_người sinh_sống thời_đại...\n",
              "2        Đến thời_kỳ cận_đại Việt_Nam lần_lượt trải gia...\n",
              "3        Sau thống_nhất Việt_Nam sụp_đổ tan_rã đồng_min...\n",
              "4                                                  Tên gọi\n",
              "                               ...                        \n",
              "12232                                 Y_học Gerhard_Domagk\n",
              "12233                        Văn_học Frans Eemil_Sillanpää\n",
              "12234                                        Hòa_bình giải\n",
              "12235                                                  Xem\n",
              "12236                                            Tham_khảo\n",
              "Name: text_cleaned, Length: 12237, dtype: object"
            ]
          },
          "metadata": {},
          "execution_count": 8
        }
      ]
    },
    {
      "cell_type": "code",
      "source": [
        "# Chuyển dữ liệu huấn luyện thành danh sách các từ\n",
        "sentences = [text.split() for text in train_data['text_cleaned']]"
      ],
      "metadata": {
        "id": "Cw8HKUJWHDgq"
      },
      "execution_count": 11,
      "outputs": []
    },
    {
      "cell_type": "markdown",
      "source": [
        "###FastText"
      ],
      "metadata": {
        "id": "f1gvgdE2fM4T"
      }
    },
    {
      "cell_type": "code",
      "source": [
        "# Xây dựng mô hình FastText\n",
        "model_fasttext = FastText(sentences,\n",
        "                          vector_size=150,\n",
        "                          window=10,\n",
        "                          min_count=10,\n",
        "                          workers=4,\n",
        "                          sg=1,\n",
        "                          negative=5)\n",
        "model_fasttext.save(model_path)"
      ],
      "metadata": {
        "id": "SNAYF4kSfLFX"
      },
      "execution_count": 27,
      "outputs": []
    },
    {
      "cell_type": "code",
      "source": [
        "# Hiển thị từ có độ tương đồng cao nhất\n",
        "for word, score in model_fasttext.wv.most_similar(\"Việt_Nam\"):\n",
        "    print(word, score)"
      ],
      "metadata": {
        "colab": {
          "base_uri": "https://localhost:8080/"
        },
        "id": "qv7XmhpSfLhd",
        "outputId": "1dc27ff8-1d46-4d3e-be17-ecbbba6d818f"
      },
      "execution_count": 26,
      "outputs": [
        {
          "output_type": "stream",
          "name": "stdout",
          "text": [
            "Việt 0.9680447578430176\n",
            "Việt_Nam_Quốc 0.9472370743751526\n",
            "Nam 0.9435651898384094\n",
            "Viện 0.9303329586982727\n",
            "Việt_Minh 0.9170984029769897\n",
            "Việt_Nam_Cộng_hòa 0.9056028127670288\n",
            "Chính 0.9035875797271729\n",
            "nhân_dân 0.9004257917404175\n",
            "Hồ_Chí_Minh 0.898783266544342\n",
            "Nhân_dân 0.8955801129341125\n"
          ]
        }
      ]
    },
    {
      "cell_type": "code",
      "source": [
        "# Tính toán khoảng cách giữa hai từ\n",
        "word1 = \"máy_tính\"\n",
        "word2 = \"Độc_lập\"\n",
        "distance = model_fasttext.wv.distance(word1, word2)\n",
        "print(f\"Khoảng cách giữa '{word1}' và '{word2}': {distance}\")"
      ],
      "metadata": {
        "colab": {
          "base_uri": "https://localhost:8080/"
        },
        "id": "QoU80319gEAK",
        "outputId": "f1036704-7ef5-4ccf-e9fe-6bc43e08bfcf"
      },
      "execution_count": 28,
      "outputs": [
        {
          "output_type": "stream",
          "name": "stdout",
          "text": [
            "Khoảng cách giữa 'máy_tính' và 'Độc_lập': 0.33854252099990845\n"
          ]
        }
      ]
    },
    {
      "cell_type": "code",
      "source": [
        "#Trích xuất vectơ word embedding của một từ\n",
        "word = \"máy_tính\"\n",
        "embedding_vector = model_fasttext.wv.get_vector(word)\n",
        "print(f\"Vectơ word embedding của '{word}': {embedding_vector}\")"
      ],
      "metadata": {
        "colab": {
          "base_uri": "https://localhost:8080/"
        },
        "id": "TvquvDz6g_Gd",
        "outputId": "6ab143af-c89f-46f6-fc78-2a3fc4f7e4f4"
      },
      "execution_count": 29,
      "outputs": [
        {
          "output_type": "stream",
          "name": "stdout",
          "text": [
            "Vectơ word embedding của 'máy_tính': [-0.1740405  -0.06009987 -0.02192822 -0.16513588 -0.09773154 -0.01875537\n",
            " -0.03806851  0.02095046 -0.02839523  0.08235946  0.11344611 -0.06378922\n",
            "  0.01423816  0.09641644 -0.20438355 -0.04053085  0.0741094   0.02094548\n",
            "  0.08554864  0.07735171 -0.04919352 -0.07326304 -0.13212052  0.27567017\n",
            "  0.20566796  0.15518032  0.06531251  0.05974705  0.18020877 -0.07993832\n",
            "  0.00480669  0.04835613  0.03627375  0.12947057 -0.03633606 -0.03227604\n",
            "  0.13661493 -0.09100186  0.04104925 -0.0802236   0.19221029  0.20251895\n",
            "  0.01194722 -0.07948003  0.12585615 -0.14547764  0.01445366 -0.04749547\n",
            " -0.05114977  0.16675952  0.07083689  0.15129097 -0.09241825  0.01369429\n",
            "  0.24420518 -0.16162233  0.11120551  0.05824175  0.04871905  0.15471175\n",
            " -0.11039356 -0.00681593  0.2408816   0.05903263  0.03130471  0.02192311\n",
            " -0.05987479 -0.2284558  -0.00262379 -0.14064908  0.11453094  0.01422222\n",
            "  0.0142711  -0.28701612  0.08140999  0.05073105  0.14818688  0.00147742\n",
            " -0.09670067 -0.03278461  0.01270896 -0.05196048  0.03236613  0.12351518\n",
            "  0.01468852 -0.1086173  -0.07978415  0.04932496  0.0054001  -0.24874125\n",
            " -0.04528511  0.04612951  0.01381666 -0.04803576  0.29996455 -0.04824593\n",
            "  0.00543389  0.00976684 -0.06747006  0.03167311  0.09126896  0.14079605\n",
            "  0.105941   -0.08202658 -0.13243054 -0.09263822  0.0145459   0.1087125\n",
            " -0.13659537 -0.02619367 -0.35331148 -0.15807584  0.04667268 -0.09360304\n",
            " -0.12415453  0.26006457  0.09821144  0.08156344 -0.31242907 -0.08241808\n",
            "  0.10383986 -0.12372413  0.12607577 -0.1037643  -0.03833704  0.12271394\n",
            "  0.06548654  0.15386897 -0.12281135  0.18731749 -0.01982027  0.08477887\n",
            "  0.0572303  -0.17448418  0.13734277  0.11241096  0.04711214 -0.02676375\n",
            " -0.01325992 -0.0596425   0.22068232  0.00504103 -0.04423514 -0.05841926\n",
            "  0.03921038 -0.17275622  0.12677853 -0.1405152  -0.04134024  0.0089673 ]\n"
          ]
        }
      ]
    },
    {
      "cell_type": "code",
      "source": [
        "import seaborn as sns\n",
        "import matplotlib.pyplot as plt\n",
        "\n",
        "# Chọn 10 từ để phân tích\n",
        "selected_words = [\"máy_tính\", \"Độc_lập\", \"Hồ_Chí_Minh\", \"cách_mạng\", \"thủ_tướng\", \"Cộng_sản\", \"văn_hóa\", \"kinh_tế\", \"giáo_dục\", \"thể_thao\"]\n",
        "\n",
        "# Lấy word vectors tương ứng với các từ\n",
        "word_vectors = model_fasttext.wv[selected_words]\n",
        "\n",
        "# Tính ma trận tương đồng cosine giữa các từ\n",
        "similarity_matrix = word_vectors @ word_vectors.T\n",
        "\n",
        "# Trực quan hóa ma trận tương đồng cosine bằng heatmap\n",
        "plt.figure(figsize=(8, 8))\n",
        "sns.heatmap(similarity_matrix, xticklabels=selected_words, yticklabels=selected_words, cmap=\"YlGnBu\")\n",
        "\n",
        "plt.title(\"Word Embedding Similarity Heatmap\")\n",
        "plt.show()"
      ],
      "metadata": {
        "colab": {
          "base_uri": "https://localhost:8080/",
          "height": 773
        },
        "id": "xx3-_PeRhGpN",
        "outputId": "e2189c24-f0ad-46f7-f9c7-943d9a5a9a6d"
      },
      "execution_count": 32,
      "outputs": [
        {
          "output_type": "display_data",
          "data": {
            "text/plain": [
              "<Figure size 800x800 with 2 Axes>"
            ],
            "image/png": "[encoded data removed]"
          },
          "metadata": {}
        }
      ]
    },
    {
      "cell_type": "code",
      "source": [
        "from sklearn.decomposition import PCA\n",
        "\n",
        "# Chọn 10 từ để phân tích\n",
        "selected_words = [\"máy_tính\", \"Độc_lập\", \"Hồ_Chí_Minh\", \"cách_mạng\", \"thủ_tướng\", \"Cộng_sản\", \"văn_hóa\", \"kinh_tế\", \"giáo_dục\", \"thể_thao\"]\n",
        "\n",
        "# Lấy word vectors tương ứng với các từ\n",
        "word_vectors = model_fasttext.wv[selected_words]\n",
        "\n",
        "# Giảm chiều dữ liệu từ vector 150 chiều xuống còn 2 chiều\n",
        "pca = PCA(n_components=2)\n",
        "word_vectors_2d = pca.fit_transform(word_vectors)\n",
        "\n",
        "# Tạo đồ thị trực quan hóa\n",
        "plt.figure(figsize=(8, 8))\n",
        "plt.scatter(word_vectors_2d[:, 0], word_vectors_2d[:, 1], marker='o')\n",
        "\n",
        "# Hiển thị từng từ lên đồ thị\n",
        "for i, word in enumerate(selected_words):\n",
        "    plt.annotate(word, xy=(word_vectors_2d[i, 0], word_vectors_2d[i, 1]))\n",
        "\n",
        "plt.xlabel(\"Dimension 1\")\n",
        "plt.ylabel(\"Dimension 2\")\n",
        "plt.title(\"Word Embedding Visualization\")\n",
        "plt.show()"
      ],
      "metadata": {
        "colab": {
          "base_uri": "https://localhost:8080/",
          "height": 718
        },
        "id": "TKcSfJkAhJEc",
        "outputId": "631d9f17-2d9c-44ee-c25c-28f7ecec9151"
      },
      "execution_count": 33,
      "outputs": [
        {
          "output_type": "display_data",
          "data": {
            "text/plain": [
              "<Figure size 800x800 with 1 Axes>"
            ],
            "image/png": "[encoded data removed]"
          },
          "metadata": {}
        }
      ]
    },
    {
      "cell_type": "code",
      "source": [],
      "metadata": {
        "id": "-K80_mkgj2HX"
      },
      "execution_count": 34,
      "outputs": []
    }
  ]
}
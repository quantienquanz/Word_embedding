{
  "nbformat": 4,
  "nbformat_minor": 0,
  "metadata": {
    "colab": {
      "provenance": []
    },
    "kernelspec": {
      "name": "python3",
      "display_name": "Python 3"
    },
    "language_info": {
      "name": "python"
    }
  },
  "cells": [
    {
      "cell_type": "code",
      "source": [
        "pip install pyvi"
      ],
      "metadata": {
        "colab": {
          "base_uri": "https://localhost:8080/"
        },
        "id": "iNiARg7bOkAg",
        "outputId": "f79ef58a-a389-4bf0-b762-09544b1a13b5"
      },
      "execution_count": null,
      "outputs": [
        {
          "output_type": "stream",
          "name": "stdout",
          "text": [
            "Looking in indexes: https://pypi.org/simple, https://us-python.pkg.dev/colab-wheels/public/simple/\n",
            "Collecting pyvi\n",
            "  Downloading pyvi-0.1.1-py2.py3-none-any.whl (8.5 MB)\n",
            "\u001b[2K     \u001b[90m━━━━━━━━━━━━━━━━━━━━━━━━━━━━━━━━━━━━━━━━\u001b[0m \u001b[32m8.5/8.5 MB\u001b[0m \u001b[31m49.2 MB/s\u001b[0m eta \u001b[36m0:00:00\u001b[0m\n",
            "\u001b[?25hRequirement already satisfied: scikit-learn in /usr/local/lib/python3.10/dist-packages (from pyvi) (1.2.2)\n",
            "Collecting sklearn-crfsuite (from pyvi)\n",
            "  Downloading sklearn_crfsuite-0.3.6-py2.py3-none-any.whl (12 kB)\n",
            "Requirement already satisfied: numpy>=1.17.3 in /usr/local/lib/python3.10/dist-packages (from scikit-learn->pyvi) (1.22.4)\n",
            "Requirement already satisfied: scipy>=1.3.2 in /usr/local/lib/python3.10/dist-packages (from scikit-learn->pyvi) (1.10.1)\n",
            "Requirement already satisfied: joblib>=1.1.1 in /usr/local/lib/python3.10/dist-packages (from scikit-learn->pyvi) (1.2.0)\n",
            "Requirement already satisfied: threadpoolctl>=2.0.0 in /usr/local/lib/python3.10/dist-packages (from scikit-learn->pyvi) (3.1.0)\n",
            "Collecting python-crfsuite>=0.8.3 (from sklearn-crfsuite->pyvi)\n",
            "  Downloading python_crfsuite-0.9.9-cp310-cp310-manylinux_2_17_x86_64.manylinux2014_x86_64.whl (993 kB)\n",
            "\u001b[2K     \u001b[90m━━━━━━━━━━━━━━━━━━━━━━━━━━━━━━━━━━━━━━\u001b[0m \u001b[32m993.5/993.5 kB\u001b[0m \u001b[31m63.4 MB/s\u001b[0m eta \u001b[36m0:00:00\u001b[0m\n",
            "\u001b[?25hRequirement already satisfied: six in /usr/local/lib/python3.10/dist-packages (from sklearn-crfsuite->pyvi) (1.16.0)\n",
            "Requirement already satisfied: tabulate in /usr/local/lib/python3.10/dist-packages (from sklearn-crfsuite->pyvi) (0.8.10)\n",
            "Requirement already satisfied: tqdm>=2.0 in /usr/local/lib/python3.10/dist-packages (from sklearn-crfsuite->pyvi) (4.65.0)\n",
            "Installing collected packages: python-crfsuite, sklearn-crfsuite, pyvi\n",
            "Successfully installed python-crfsuite-0.9.9 pyvi-0.1.1 sklearn-crfsuite-0.3.6\n"
          ]
        }
      ]
    },
    {
      "cell_type": "code",
      "source": [
        "import os\n",
        "import pandas as pd\n",
        "\n",
        "from gensim.models import Word2Vec, Phrases\n",
        "from gensim.models.fasttext import FastText\n",
        "from pyvi import ViTokenizer\n",
        "from gensim.models.phrases import Phrases, Phraser"
      ],
      "metadata": {
        "id": "um2SGpwIOflA"
      },
      "execution_count": 40,
      "outputs": []
    },
    {
      "cell_type": "code",
      "source": [
        "pathdata = '/content/drive/MyDrive/Data_full/merged_data (2).txt'\n",
        "stopwords_path = '/content/drive/MyDrive/Data_full/stopwords.csv'\n",
        "\n",
        "model_path = '/content/word2vec.model'\n",
        "fast_text = '/content/fasttext_gensim.model'"
      ],
      "metadata": {
        "id": "KmwjsaZ4O2Ys"
      },
      "execution_count": null,
      "outputs": []
    },
    {
      "cell_type": "code",
      "source": [
        "# Đọc dữ liệu từ file\n",
        "train_data = pd.read_csv(pathdata, delimiter='\\t', header=None, names=['text'])\n",
        "train_data['text_tokenized'] = train_data['text'].apply(ViTokenizer.tokenize)\n",
        "train_data"
      ],
      "metadata": {
        "colab": {
          "base_uri": "https://localhost:8080/",
          "height": 424
        },
        "id": "5KAlhqdVO4TE",
        "outputId": "257d105c-0995-4003-87ec-ea842d2dc69f"
      },
      "execution_count": null,
      "outputs": [
        {
          "output_type": "execute_result",
          "data": {
            "text/plain": [
              "                                                    text  \\\n",
              "0      Việt Nam  quốc hiệu là Cộng hòa Xã hội chủ ngh...   \n",
              "1      Lãnh thổ Việt Nam xuất hiện con người sinh sốn...   \n",
              "2      Đến thời kỳ cận đại  Việt Nam lần lượt trải qu...   \n",
              "3      Sau khi thống nhất  Việt Nam tiếp tục gặp khó ...   \n",
              "4                                                Tên gọi   \n",
              "...                                                  ...   \n",
              "12232                             Y học   Gerhard Domagk   \n",
              "12233                    Văn học   Frans Eemil Sillanpää   \n",
              "12234                           Hòa bình   không có giải   \n",
              "12235                                           Xem thêm   \n",
              "12236                                       Tham khảo      \n",
              "\n",
              "                                          text_tokenized  \n",
              "0      Việt_Nam quốc_hiệu là Cộng_hòa Xã_hội chủ_nghĩ...  \n",
              "1      Lãnh_thổ Việt_Nam xuất_hiện con_người sinh_sốn...  \n",
              "2      Đến thời_kỳ cận_đại Việt_Nam lần_lượt trải qua...  \n",
              "3      Sau khi thống_nhất Việt_Nam tiếp_tục gặp khó_k...  \n",
              "4                                                Tên gọi  \n",
              "...                                                  ...  \n",
              "12232                               Y_học Gerhard_Domagk  \n",
              "12233                      Văn_học Frans Eemil_Sillanpää  \n",
              "12234                             Hòa_bình không có giải  \n",
              "12235                                           Xem thêm  \n",
              "12236                                          Tham_khảo  \n",
              "\n",
              "[12237 rows x 2 columns]"
            ],
            "text/html": [
              "\n",
              "  <div id=\"df-a4f455c0-1b3b-4eb0-85f9-b42dde8c1587\">\n",
              "    <div class=\"colab-df-container\">\n",
              "      <div>\n",
              "<style scoped>\n",
              "    .dataframe tbody tr th:only-of-type {\n",
              "        vertical-align: middle;\n",
              "    }\n",
              "\n",
              "    .dataframe tbody tr th {\n",
              "        vertical-align: top;\n",
              "    }\n",
              "\n",
              "    .dataframe thead th {\n",
              "        text-align: right;\n",
              "    }\n",
              "</style>\n",
              "<table border=\"1\" class=\"dataframe\">\n",
              "  <thead>\n",
              "    <tr style=\"text-align: right;\">\n",
              "      <th></th>\n",
              "      <th>text</th>\n",
              "      <th>text_tokenized</th>\n",
              "    </tr>\n",
              "  </thead>\n",
              "  <tbody>\n",
              "    <tr>\n",
              "      <th>0</th>\n",
              "      <td>Việt Nam  quốc hiệu là Cộng hòa Xã hội chủ ngh...</td>\n",
              "      <td>Việt_Nam quốc_hiệu là Cộng_hòa Xã_hội chủ_nghĩ...</td>\n",
              "    </tr>\n",
              "    <tr>\n",
              "      <th>1</th>\n",
              "      <td>Lãnh thổ Việt Nam xuất hiện con người sinh sốn...</td>\n",
              "      <td>Lãnh_thổ Việt_Nam xuất_hiện con_người sinh_sốn...</td>\n",
              "    </tr>\n",
              "    <tr>\n",
              "      <th>2</th>\n",
              "      <td>Đến thời kỳ cận đại  Việt Nam lần lượt trải qu...</td>\n",
              "      <td>Đến thời_kỳ cận_đại Việt_Nam lần_lượt trải qua...</td>\n",
              "    </tr>\n",
              "    <tr>\n",
              "      <th>3</th>\n",
              "      <td>Sau khi thống nhất  Việt Nam tiếp tục gặp khó ...</td>\n",
              "      <td>Sau khi thống_nhất Việt_Nam tiếp_tục gặp khó_k...</td>\n",
              "    </tr>\n",
              "    <tr>\n",
              "      <th>4</th>\n",
              "      <td>Tên gọi</td>\n",
              "      <td>Tên gọi</td>\n",
              "    </tr>\n",
              "    <tr>\n",
              "      <th>...</th>\n",
              "      <td>...</td>\n",
              "      <td>...</td>\n",
              "    </tr>\n",
              "    <tr>\n",
              "      <th>12232</th>\n",
              "      <td>Y học   Gerhard Domagk</td>\n",
              "      <td>Y_học Gerhard_Domagk</td>\n",
              "    </tr>\n",
              "    <tr>\n",
              "      <th>12233</th>\n",
              "      <td>Văn học   Frans Eemil Sillanpää</td>\n",
              "      <td>Văn_học Frans Eemil_Sillanpää</td>\n",
              "    </tr>\n",
              "    <tr>\n",
              "      <th>12234</th>\n",
              "      <td>Hòa bình   không có giải</td>\n",
              "      <td>Hòa_bình không có giải</td>\n",
              "    </tr>\n",
              "    <tr>\n",
              "      <th>12235</th>\n",
              "      <td>Xem thêm</td>\n",
              "      <td>Xem thêm</td>\n",
              "    </tr>\n",
              "    <tr>\n",
              "      <th>12236</th>\n",
              "      <td>Tham khảo</td>\n",
              "      <td>Tham_khảo</td>\n",
              "    </tr>\n",
              "  </tbody>\n",
              "</table>\n",
              "<p>12237 rows × 2 columns</p>\n",
              "</div>\n",
              "      <button class=\"colab-df-convert\" onclick=\"convertToInteractive('df-a4f455c0-1b3b-4eb0-85f9-b42dde8c1587')\"\n",
              "              title=\"Convert this dataframe to an interactive table.\"\n",
              "              style=\"display:none;\">\n",
              "        \n",
              "  <svg xmlns=\"http://www.w3.org/2000/svg\" height=\"24px\"viewBox=\"0 0 24 24\"\n",
              "       width=\"24px\">\n",
              "    <path d=\"M0 0h24v24H0V0z\" fill=\"none\"/>\n",
              "    <path d=\"M18.56 5.44l.94 2.06.94-2.06 2.06-.94-2.06-.94-.94-2.06-.94 2.06-2.06.94zm-11 1L8.5 8.5l.94-2.06 2.06-.94-2.06-.94L8.5 2.5l-.94 2.06-2.06.94zm10 10l.94 2.06.94-2.06 2.06-.94-2.06-.94-.94-2.06-.94 2.06-2.06.94z\"/><path d=\"M17.41 7.96l-1.37-1.37c-.4-.4-.92-.59-1.43-.59-.52 0-1.04.2-1.43.59L10.3 9.45l-7.72 7.72c-.78.78-.78 2.05 0 2.83L4 21.41c.39.39.9.59 1.41.59.51 0 1.02-.2 1.41-.59l7.78-7.78 2.81-2.81c.8-.78.8-2.07 0-2.86zM5.41 20L4 18.59l7.72-7.72 1.47 1.35L5.41 20z\"/>\n",
              "  </svg>\n",
              "      </button>\n",
              "      \n",
              "  <style>\n",
              "    .colab-df-container {\n",
              "      display:flex;\n",
              "      flex-wrap:wrap;\n",
              "      gap: 12px;\n",
              "    }\n",
              "\n",
              "    .colab-df-convert {\n",
              "      background-color: #E8F0FE;\n",
              "      border: none;\n",
              "      border-radius: 50%;\n",
              "      cursor: pointer;\n",
              "      display: none;\n",
              "      fill: #1967D2;\n",
              "      height: 32px;\n",
              "      padding: 0 0 0 0;\n",
              "      width: 32px;\n",
              "    }\n",
              "\n",
              "    .colab-df-convert:hover {\n",
              "      background-color: #E2EBFA;\n",
              "      box-shadow: 0px 1px 2px rgba(60, 64, 67, 0.3), 0px 1px 3px 1px rgba(60, 64, 67, 0.15);\n",
              "      fill: #174EA6;\n",
              "    }\n",
              "\n",
              "    [theme=dark] .colab-df-convert {\n",
              "      background-color: #3B4455;\n",
              "      fill: #D2E3FC;\n",
              "    }\n",
              "\n",
              "    [theme=dark] .colab-df-convert:hover {\n",
              "      background-color: #434B5C;\n",
              "      box-shadow: 0px 1px 3px 1px rgba(0, 0, 0, 0.15);\n",
              "      filter: drop-shadow(0px 1px 2px rgba(0, 0, 0, 0.3));\n",
              "      fill: #FFFFFF;\n",
              "    }\n",
              "  </style>\n",
              "\n",
              "      <script>\n",
              "        const buttonEl =\n",
              "          document.querySelector('#df-a4f455c0-1b3b-4eb0-85f9-b42dde8c1587 button.colab-df-convert');\n",
              "        buttonEl.style.display =\n",
              "          google.colab.kernel.accessAllowed ? 'block' : 'none';\n",
              "\n",
              "        async function convertToInteractive(key) {\n",
              "          const element = document.querySelector('#df-a4f455c0-1b3b-4eb0-85f9-b42dde8c1587');\n",
              "          const dataTable =\n",
              "            await google.colab.kernel.invokeFunction('convertToInteractive',\n",
              "                                                     [key], {});\n",
              "          if (!dataTable) return;\n",
              "\n",
              "          const docLinkHtml = 'Like what you see? Visit the ' +\n",
              "            '<a target=\"_blank\" href=https://colab.research.google.com/notebooks/data_table.ipynb>data table notebook</a>'\n",
              "            + ' to learn more about interactive tables.';\n",
              "          element.innerHTML = '';\n",
              "          dataTable['output_type'] = 'display_data';\n",
              "          await google.colab.output.renderOutput(dataTable, element);\n",
              "          const docLink = document.createElement('div');\n",
              "          docLink.innerHTML = docLinkHtml;\n",
              "          element.appendChild(docLink);\n",
              "        }\n",
              "      </script>\n",
              "    </div>\n",
              "  </div>\n",
              "  "
            ]
          },
          "metadata": {},
          "execution_count": 9
        }
      ]
    },
    {
      "cell_type": "code",
      "source": [
        "# Đọc danh sách stopwords\n",
        "stopwords_data = pd.read_csv(stopwords_path, sep=\"\\t\", encoding='utf-8')\n",
        "stopwords_set = set(stopwords_data['stopwords'])\n",
        "stopwords_data['stopwords'].head()"
      ],
      "metadata": {
        "colab": {
          "base_uri": "https://localhost:8080/"
        },
        "id": "bpbkHMxfO8G-",
        "outputId": "e1234fc2-e2b3-41b8-f350-451bf053cb60"
      },
      "execution_count": 47,
      "outputs": [
        {
          "output_type": "execute_result",
          "data": {
            "text/plain": [
              "0      mà_thôi\n",
              "1       tuy_có\n",
              "2      đâu_như\n",
              "3    quay_bước\n",
              "4      hỏi_lại\n",
              "Name: stopwords, dtype: object"
            ]
          },
          "metadata": {},
          "execution_count": 47
        }
      ]
    },
    {
      "cell_type": "code",
      "source": [
        "# Tiền xử lý dữ liệu\n",
        "train_data['text_cleaned'] = train_data['text_tokenized'].apply(lambda x: ' '.join([word for word in x.split() if word not in stopwords_set]))\n",
        "train_data['text_cleaned']"
      ],
      "metadata": {
        "colab": {
          "base_uri": "https://localhost:8080/"
        },
        "id": "0R8VORu5PC4m",
        "outputId": "4bdf028d-4c1a-4a38-d086-64918264c8bb"
      },
      "execution_count": null,
      "outputs": [
        {
          "output_type": "execute_result",
          "data": {
            "text/plain": [
              "0        Việt_Nam quốc_hiệu Cộng_hòa Xã_hội chủ_nghĩa V...\n",
              "1        Lãnh_thổ Việt_Nam con_người sinh_sống thời_đại...\n",
              "2        Đến thời_kỳ cận_đại Việt_Nam lần_lượt trải gia...\n",
              "3        Sau thống_nhất Việt_Nam sụp_đổ tan_rã đồng_min...\n",
              "4                                                  Tên gọi\n",
              "                               ...                        \n",
              "12232                                 Y_học Gerhard_Domagk\n",
              "12233                        Văn_học Frans Eemil_Sillanpää\n",
              "12234                                        Hòa_bình giải\n",
              "12235                                                  Xem\n",
              "12236                                            Tham_khảo\n",
              "Name: text_cleaned, Length: 12237, dtype: object"
            ]
          },
          "metadata": {},
          "execution_count": 16
        }
      ]
    },
    {
      "cell_type": "code",
      "source": [
        "# Chuyển dữ liệu huấn luyện thành danh sách các từ\n",
        "sentences = [text.split() for text in train_data['text_cleaned']]"
      ],
      "metadata": {
        "id": "WN-4S2YsPckz"
      },
      "execution_count": null,
      "outputs": []
    },
    {
      "cell_type": "code",
      "source": [],
      "metadata": {
        "id": "weStWPj9Pm08"
      },
      "execution_count": null,
      "outputs": []
    },
    {
      "cell_type": "markdown",
      "source": [
        "### Word2Vec"
      ],
      "metadata": {
        "id": "RHwNXWIiP83g"
      }
    },
    {
      "cell_type": "code",
      "source": [
        "# Xử lý các cặp từ thông dụng hoặc cụm từ\n",
        "bigram_transformer = Phraser(Phrases(sentences, min_count=5, threshold=100))\n",
        "sentences_with_phrases = list(bigram_transformer[sentences])"
      ],
      "metadata": {
        "id": "Y6orexjxP9Pa"
      },
      "execution_count": null,
      "outputs": []
    },
    {
      "cell_type": "code",
      "source": [
        "# Xây dựng mô hình Word2Vec với Negative Sampling\n",
        "model_word2vec = Word2Vec(sentences_with_phrases, vector_size=150, window=10, min_count=10, workers=4, sg=1, negative=5)\n",
        "model_word2vec.save(model_path)  # Lưu mô hình tại đường dẫn đã chỉ định"
      ],
      "metadata": {
        "id": "KpDZ_OIGP_G8"
      },
      "execution_count": null,
      "outputs": []
    },
    {
      "cell_type": "code",
      "source": [
        "# Hiển thị từ có độ tương đồng cao nhất\n",
        "for word, score in model_word2vec.wv.most_similar(\"Hồ_Chí_Minh\"):\n",
        "    print(word, score)"
      ],
      "metadata": {
        "colab": {
          "base_uri": "https://localhost:8080/"
        },
        "id": "V49bQC8oQIUE",
        "outputId": "ba53f375-6af4-43b7-f3f0-388b72f7f661"
      },
      "execution_count": null,
      "outputs": [
        {
          "output_type": "stream",
          "name": "stdout",
          "text": [
            "Nguyễn_Ái_Quốc 0.9767552018165588\n",
            "Việt_Nam 0.9741204977035522\n",
            "Hội 0.9726068377494812\n",
            "cách_mạng 0.9721933603286743\n",
            "Cộng_sản 0.9665721654891968\n",
            "Ông 0.9664304256439209\n",
            "tham_gia 0.9638090133666992\n",
            "dân_tộc 0.9627223610877991\n",
            "thuộc_địa 0.9624274969100952\n",
            "Đông_Dương 0.9621381759643555\n"
          ]
        }
      ]
    },
    {
      "cell_type": "code",
      "source": [],
      "metadata": {
        "id": "uoQPhI1LQMIJ"
      },
      "execution_count": null,
      "outputs": []
    },
    {
      "cell_type": "markdown",
      "source": [
        "###fastText"
      ],
      "metadata": {
        "id": "3DzgUom6Qvj6"
      }
    },
    {
      "cell_type": "code",
      "source": [
        "# Xây dựng mô hình FastText\n",
        "model_fasttext = FastText(sentences_with_phrases, vector_size=150, window=10, min_count=10, workers=4, sg=1, negative=5)\n",
        "model_fasttext.save(fast_text)  # Lưu mô hình tại đường dẫn đã chỉ định"
      ],
      "metadata": {
        "id": "bR2rGOByQxz0"
      },
      "execution_count": null,
      "outputs": []
    },
    {
      "cell_type": "code",
      "source": [
        "# Hiển thị từ có độ tương đồng cao nhất\n",
        "for word, score in model_fasttext.wv.most_similar(\"Hồ_Chí_Minh\"):\n",
        "    print(word, score)"
      ],
      "metadata": {
        "colab": {
          "base_uri": "https://localhost:8080/"
        },
        "id": "q-ZegY7mQ2nR",
        "outputId": "761d2380-8426-4902-dd74-dd7a23bdd819"
      },
      "execution_count": null,
      "outputs": [
        {
          "output_type": "stream",
          "name": "stdout",
          "text": [
            "lập 0.99101722240448\n",
            "chủ_tịch 0.9883866906166077\n",
            "chủ_nghĩa_cộng_sản 0.9880251288414001\n",
            "cộng_sản 0.9879514575004578\n",
            "Nguyễn_Ái_Quốc 0.9878663420677185\n",
            "dân_chủ 0.987087607383728\n",
            "Xã_hội 0.9852777123451233\n",
            "xã_hội_chủ_nghĩa 0.9849224090576172\n",
            "Chủ_nghĩa 0.9845078587532043\n",
            "Viện 0.9833997488021851\n"
          ]
        }
      ]
    },
    {
      "cell_type": "code",
      "source": [
        "'mongkut' in train_data['text_cleaned'].str.split().values.tolist()"
      ],
      "metadata": {
        "colab": {
          "base_uri": "https://localhost:8080/"
        },
        "id": "s_1M7DV4UW-K",
        "outputId": "dc7cca14-113b-457a-870b-57616bc6dadc"
      },
      "execution_count": null,
      "outputs": [
        {
          "output_type": "execute_result",
          "data": {
            "text/plain": [
              "False"
            ]
          },
          "metadata": {},
          "execution_count": 38
        }
      ]
    },
    {
      "cell_type": "code",
      "source": [],
      "metadata": {
        "id": "ibNZNokMUsX5"
      },
      "execution_count": null,
      "outputs": []
    }
  ]
}
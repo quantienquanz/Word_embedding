{
  "nbformat": 4,
  "nbformat_minor": 0,
  "metadata": {
    "colab": {
      "provenance": [],
      "gpuType": "T4"
    },
    "kernelspec": {
      "name": "python3",
      "display_name": "Python 3"
    },
    "language_info": {
      "name": "python"
    },
    "accelerator": "GPU"
  },
  "cells": [
    {
      "cell_type": "code",
      "source": [
        "from google.colab import drive\n",
        "drive.mount('/content/drive')"
      ],
      "metadata": {
        "colab": {
          "base_uri": "https://localhost:8080/"
        },
        "id": "waxDT7iiuR4X",
        "outputId": "78746ba7-64df-4915-93b9-7cee14e52329"
      },
      "execution_count": 95,
      "outputs": [
        {
          "output_type": "stream",
          "name": "stdout",
          "text": [
            "Drive already mounted at /content/drive; to attempt to forcibly remount, call drive.mount(\"/content/drive\", force_remount=True).\n"
          ]
        }
      ]
    },
    {
      "cell_type": "code",
      "source": [
        "pip install pyvi"
      ],
      "metadata": {
        "colab": {
          "base_uri": "https://localhost:8080/"
        },
        "id": "MDRrcDunupEK",
        "outputId": "562c07fc-f570-406e-c6cf-8f5d5efef748"
      },
      "execution_count": 96,
      "outputs": [
        {
          "output_type": "stream",
          "name": "stdout",
          "text": [
            "Requirement already satisfied: pyvi in /usr/local/lib/python3.10/dist-packages (0.1.1)\n",
            "Requirement already satisfied: scikit-learn in /usr/local/lib/python3.10/dist-packages (from pyvi) (1.2.2)\n",
            "Requirement already satisfied: sklearn-crfsuite in /usr/local/lib/python3.10/dist-packages (from pyvi) (0.3.6)\n",
            "Requirement already satisfied: numpy>=1.17.3 in /usr/local/lib/python3.10/dist-packages (from scikit-learn->pyvi) (1.22.4)\n",
            "Requirement already satisfied: scipy>=1.3.2 in /usr/local/lib/python3.10/dist-packages (from scikit-learn->pyvi) (1.10.1)\n",
            "Requirement already satisfied: joblib>=1.1.1 in /usr/local/lib/python3.10/dist-packages (from scikit-learn->pyvi) (1.2.0)\n",
            "Requirement already satisfied: threadpoolctl>=2.0.0 in /usr/local/lib/python3.10/dist-packages (from scikit-learn->pyvi) (3.1.0)\n",
            "Requirement already satisfied: python-crfsuite>=0.8.3 in /usr/local/lib/python3.10/dist-packages (from sklearn-crfsuite->pyvi) (0.9.9)\n",
            "Requirement already satisfied: six in /usr/local/lib/python3.10/dist-packages (from sklearn-crfsuite->pyvi) (1.16.0)\n",
            "Requirement already satisfied: tabulate in /usr/local/lib/python3.10/dist-packages (from sklearn-crfsuite->pyvi) (0.8.10)\n",
            "Requirement already satisfied: tqdm>=2.0 in /usr/local/lib/python3.10/dist-packages (from sklearn-crfsuite->pyvi) (4.65.0)\n"
          ]
        }
      ]
    },
    {
      "cell_type": "code",
      "source": [
        "import os\n",
        "import numpy as np\n",
        "import pandas as pd\n",
        "\n",
        "from gensim.models import Word2Vec, Phrases\n",
        "from gensim.models.fasttext import FastText\n",
        "from pyvi import ViTokenizer\n",
        "from gensim.models.phrases import Phrases, Phraser"
      ],
      "metadata": {
        "id": "SCFtSaERaOl5"
      },
      "execution_count": 119,
      "outputs": []
    },
    {
      "cell_type": "code",
      "source": [
        "pathdata = '/content/drive/MyDrive/Data full/merged_data (2).txt'\n",
        "stopwords_path = '/content/drive/MyDrive/Data full/stopwords.csv'\n",
        "\n",
        "model_path = '/content/drive/MyDrive/Data full/word2vec.model'"
      ],
      "metadata": {
        "id": "xO1Nav4fuaB3"
      },
      "execution_count": 98,
      "outputs": []
    },
    {
      "cell_type": "code",
      "source": [
        "# Đọc dữ liệu từ file\n",
        "train_data = pd.read_csv(pathdata, delimiter='\\t', header=None, names=['text'])\n",
        "train_data['text_tokenized'] = train_data['text'].apply(ViTokenizer.tokenize)\n",
        "train_data"
      ],
      "metadata": {
        "colab": {
          "base_uri": "https://localhost:8080/",
          "height": 424
        },
        "id": "eD4EIlQTubYj",
        "outputId": "1857054a-bbb4-43b4-ca20-b01657f0ca13"
      },
      "execution_count": 99,
      "outputs": [
        {
          "output_type": "execute_result",
          "data": {
            "text/plain": [
              "                                                    text  \\\n",
              "0      Việt Nam  quốc hiệu là Cộng hòa Xã hội chủ ngh...   \n",
              "1      Lãnh thổ Việt Nam xuất hiện con người sinh sốn...   \n",
              "2      Đến thời kỳ cận đại  Việt Nam lần lượt trải qu...   \n",
              "3      Sau khi thống nhất  Việt Nam tiếp tục gặp khó ...   \n",
              "4                                                Tên gọi   \n",
              "...                                                  ...   \n",
              "12232                             Y học   Gerhard Domagk   \n",
              "12233                    Văn học   Frans Eemil Sillanpää   \n",
              "12234                           Hòa bình   không có giải   \n",
              "12235                                           Xem thêm   \n",
              "12236                                       Tham khảo      \n",
              "\n",
              "                                          text_tokenized  \n",
              "0      Việt_Nam quốc_hiệu là Cộng_hòa Xã_hội chủ_nghĩ...  \n",
              "1      Lãnh_thổ Việt_Nam xuất_hiện con_người sinh_sốn...  \n",
              "2      Đến thời_kỳ cận_đại Việt_Nam lần_lượt trải qua...  \n",
              "3      Sau khi thống_nhất Việt_Nam tiếp_tục gặp khó_k...  \n",
              "4                                                Tên gọi  \n",
              "...                                                  ...  \n",
              "12232                               Y_học Gerhard_Domagk  \n",
              "12233                      Văn_học Frans Eemil_Sillanpää  \n",
              "12234                             Hòa_bình không có giải  \n",
              "12235                                           Xem thêm  \n",
              "12236                                          Tham_khảo  \n",
              "\n",
              "[12237 rows x 2 columns]"
            ],
            "text/html": [
              "\n",
              "  <div id=\"df-49bfd5b9-5bb3-4b1f-b065-524299e265bd\">\n",
              "    <div class=\"colab-df-container\">\n",
              "      <div>\n",
              "<style scoped>\n",
              "    .dataframe tbody tr th:only-of-type {\n",
              "        vertical-align: middle;\n",
              "    }\n",
              "\n",
              "    .dataframe tbody tr th {\n",
              "        vertical-align: top;\n",
              "    }\n",
              "\n",
              "    .dataframe thead th {\n",
              "        text-align: right;\n",
              "    }\n",
              "</style>\n",
              "<table border=\"1\" class=\"dataframe\">\n",
              "  <thead>\n",
              "    <tr style=\"text-align: right;\">\n",
              "      <th></th>\n",
              "      <th>text</th>\n",
              "      <th>text_tokenized</th>\n",
              "    </tr>\n",
              "  </thead>\n",
              "  <tbody>\n",
              "    <tr>\n",
              "      <th>0</th>\n",
              "      <td>Việt Nam  quốc hiệu là Cộng hòa Xã hội chủ ngh...</td>\n",
              "      <td>Việt_Nam quốc_hiệu là Cộng_hòa Xã_hội chủ_nghĩ...</td>\n",
              "    </tr>\n",
              "    <tr>\n",
              "      <th>1</th>\n",
              "      <td>Lãnh thổ Việt Nam xuất hiện con người sinh sốn...</td>\n",
              "      <td>Lãnh_thổ Việt_Nam xuất_hiện con_người sinh_sốn...</td>\n",
              "    </tr>\n",
              "    <tr>\n",
              "      <th>2</th>\n",
              "      <td>Đến thời kỳ cận đại  Việt Nam lần lượt trải qu...</td>\n",
              "      <td>Đến thời_kỳ cận_đại Việt_Nam lần_lượt trải qua...</td>\n",
              "    </tr>\n",
              "    <tr>\n",
              "      <th>3</th>\n",
              "      <td>Sau khi thống nhất  Việt Nam tiếp tục gặp khó ...</td>\n",
              "      <td>Sau khi thống_nhất Việt_Nam tiếp_tục gặp khó_k...</td>\n",
              "    </tr>\n",
              "    <tr>\n",
              "      <th>4</th>\n",
              "      <td>Tên gọi</td>\n",
              "      <td>Tên gọi</td>\n",
              "    </tr>\n",
              "    <tr>\n",
              "      <th>...</th>\n",
              "      <td>...</td>\n",
              "      <td>...</td>\n",
              "    </tr>\n",
              "    <tr>\n",
              "      <th>12232</th>\n",
              "      <td>Y học   Gerhard Domagk</td>\n",
              "      <td>Y_học Gerhard_Domagk</td>\n",
              "    </tr>\n",
              "    <tr>\n",
              "      <th>12233</th>\n",
              "      <td>Văn học   Frans Eemil Sillanpää</td>\n",
              "      <td>Văn_học Frans Eemil_Sillanpää</td>\n",
              "    </tr>\n",
              "    <tr>\n",
              "      <th>12234</th>\n",
              "      <td>Hòa bình   không có giải</td>\n",
              "      <td>Hòa_bình không có giải</td>\n",
              "    </tr>\n",
              "    <tr>\n",
              "      <th>12235</th>\n",
              "      <td>Xem thêm</td>\n",
              "      <td>Xem thêm</td>\n",
              "    </tr>\n",
              "    <tr>\n",
              "      <th>12236</th>\n",
              "      <td>Tham khảo</td>\n",
              "      <td>Tham_khảo</td>\n",
              "    </tr>\n",
              "  </tbody>\n",
              "</table>\n",
              "<p>12237 rows × 2 columns</p>\n",
              "</div>\n",
              "      <button class=\"colab-df-convert\" onclick=\"convertToInteractive('df-49bfd5b9-5bb3-4b1f-b065-524299e265bd')\"\n",
              "              title=\"Convert this dataframe to an interactive table.\"\n",
              "              style=\"display:none;\">\n",
              "        \n",
              "  <svg xmlns=\"http://www.w3.org/2000/svg\" height=\"24px\"viewBox=\"0 0 24 24\"\n",
              "       width=\"24px\">\n",
              "    <path d=\"M0 0h24v24H0V0z\" fill=\"none\"/>\n",
              "    <path d=\"M18.56 5.44l.94 2.06.94-2.06 2.06-.94-2.06-.94-.94-2.06-.94 2.06-2.06.94zm-11 1L8.5 8.5l.94-2.06 2.06-.94-2.06-.94L8.5 2.5l-.94 2.06-2.06.94zm10 10l.94 2.06.94-2.06 2.06-.94-2.06-.94-.94-2.06-.94 2.06-2.06.94z\"/><path d=\"M17.41 7.96l-1.37-1.37c-.4-.4-.92-.59-1.43-.59-.52 0-1.04.2-1.43.59L10.3 9.45l-7.72 7.72c-.78.78-.78 2.05 0 2.83L4 21.41c.39.39.9.59 1.41.59.51 0 1.02-.2 1.41-.59l7.78-7.78 2.81-2.81c.8-.78.8-2.07 0-2.86zM5.41 20L4 18.59l7.72-7.72 1.47 1.35L5.41 20z\"/>\n",
              "  </svg>\n",
              "      </button>\n",
              "      \n",
              "  <style>\n",
              "    .colab-df-container {\n",
              "      display:flex;\n",
              "      flex-wrap:wrap;\n",
              "      gap: 12px;\n",
              "    }\n",
              "\n",
              "    .colab-df-convert {\n",
              "      background-color: #E8F0FE;\n",
              "      border: none;\n",
              "      border-radius: 50%;\n",
              "      cursor: pointer;\n",
              "      display: none;\n",
              "      fill: #1967D2;\n",
              "      height: 32px;\n",
              "      padding: 0 0 0 0;\n",
              "      width: 32px;\n",
              "    }\n",
              "\n",
              "    .colab-df-convert:hover {\n",
              "      background-color: #E2EBFA;\n",
              "      box-shadow: 0px 1px 2px rgba(60, 64, 67, 0.3), 0px 1px 3px 1px rgba(60, 64, 67, 0.15);\n",
              "      fill: #174EA6;\n",
              "    }\n",
              "\n",
              "    [theme=dark] .colab-df-convert {\n",
              "      background-color: #3B4455;\n",
              "      fill: #D2E3FC;\n",
              "    }\n",
              "\n",
              "    [theme=dark] .colab-df-convert:hover {\n",
              "      background-color: #434B5C;\n",
              "      box-shadow: 0px 1px 3px 1px rgba(0, 0, 0, 0.15);\n",
              "      filter: drop-shadow(0px 1px 2px rgba(0, 0, 0, 0.3));\n",
              "      fill: #FFFFFF;\n",
              "    }\n",
              "  </style>\n",
              "\n",
              "      <script>\n",
              "        const buttonEl =\n",
              "          document.querySelector('#df-49bfd5b9-5bb3-4b1f-b065-524299e265bd button.colab-df-convert');\n",
              "        buttonEl.style.display =\n",
              "          google.colab.kernel.accessAllowed ? 'block' : 'none';\n",
              "\n",
              "        async function convertToInteractive(key) {\n",
              "          const element = document.querySelector('#df-49bfd5b9-5bb3-4b1f-b065-524299e265bd');\n",
              "          const dataTable =\n",
              "            await google.colab.kernel.invokeFunction('convertToInteractive',\n",
              "                                                     [key], {});\n",
              "          if (!dataTable) return;\n",
              "\n",
              "          const docLinkHtml = 'Like what you see? Visit the ' +\n",
              "            '<a target=\"_blank\" href=https://colab.research.google.com/notebooks/data_table.ipynb>data table notebook</a>'\n",
              "            + ' to learn more about interactive tables.';\n",
              "          element.innerHTML = '';\n",
              "          dataTable['output_type'] = 'display_data';\n",
              "          await google.colab.output.renderOutput(dataTable, element);\n",
              "          const docLink = document.createElement('div');\n",
              "          docLink.innerHTML = docLinkHtml;\n",
              "          element.appendChild(docLink);\n",
              "        }\n",
              "      </script>\n",
              "    </div>\n",
              "  </div>\n",
              "  "
            ]
          },
          "metadata": {},
          "execution_count": 99
        }
      ]
    },
    {
      "cell_type": "code",
      "source": [
        "# Đọc danh sách stopwords\n",
        "stopwords_data = pd.read_csv(stopwords_path, sep=\"\\t\", encoding='utf-8')\n",
        "stopwords_set = set(stopwords_data['stopwords'])\n",
        "stopwords_data['stopwords'].head()"
      ],
      "metadata": {
        "colab": {
          "base_uri": "https://localhost:8080/"
        },
        "id": "fAqZV0iNvgKe",
        "outputId": "e6834546-bc46-4427-a01b-131c205dbd70"
      },
      "execution_count": 100,
      "outputs": [
        {
          "output_type": "execute_result",
          "data": {
            "text/plain": [
              "0      mà_thôi\n",
              "1       tuy_có\n",
              "2      đâu_như\n",
              "3    quay_bước\n",
              "4      hỏi_lại\n",
              "Name: stopwords, dtype: object"
            ]
          },
          "metadata": {},
          "execution_count": 100
        }
      ]
    },
    {
      "cell_type": "code",
      "source": [
        "# Tiền xử lý dữ liệu\n",
        "train_data['text_cleaned'] = train_data['text_tokenized'].apply(lambda x: ' '.join([word for word in x.split() if word not in stopwords_set]))\n",
        "train_data['text_cleaned']"
      ],
      "metadata": {
        "colab": {
          "base_uri": "https://localhost:8080/"
        },
        "id": "HXalYxIjvksP",
        "outputId": "ae4d604f-bda0-4adf-a075-0ff742c728dd"
      },
      "execution_count": 101,
      "outputs": [
        {
          "output_type": "execute_result",
          "data": {
            "text/plain": [
              "0        Việt_Nam quốc_hiệu Cộng_hòa Xã_hội chủ_nghĩa V...\n",
              "1        Lãnh_thổ Việt_Nam con_người sinh_sống thời_đại...\n",
              "2        Đến thời_kỳ cận_đại Việt_Nam lần_lượt trải gia...\n",
              "3        Sau thống_nhất Việt_Nam sụp_đổ tan_rã đồng_min...\n",
              "4                                                  Tên gọi\n",
              "                               ...                        \n",
              "12232                                 Y_học Gerhard_Domagk\n",
              "12233                        Văn_học Frans Eemil_Sillanpää\n",
              "12234                                        Hòa_bình giải\n",
              "12235                                                  Xem\n",
              "12236                                            Tham_khảo\n",
              "Name: text_cleaned, Length: 12237, dtype: object"
            ]
          },
          "metadata": {},
          "execution_count": 101
        }
      ]
    },
    {
      "cell_type": "code",
      "source": [
        "# Chuyển dữ liệu huấn luyện thành danh sách các từ\n",
        "sentences = [text.split() for text in train_data['text_cleaned']]"
      ],
      "metadata": {
        "id": "34KxOSxMvmtJ"
      },
      "execution_count": 102,
      "outputs": []
    },
    {
      "cell_type": "code",
      "source": [],
      "metadata": {
        "id": "7za8ji7hvujs"
      },
      "execution_count": 102,
      "outputs": []
    },
    {
      "cell_type": "markdown",
      "source": [
        "### Word2Vec Skip-gram"
      ],
      "metadata": {
        "id": "OohW98JNvvtB"
      }
    },
    {
      "cell_type": "code",
      "source": [
        "# Xử lý các cặp từ thông dụng hoặc cụm từ\n",
        "bigram_transformer = Phraser(Phrases(sentences, min_count=5, threshold=100))\n",
        "sentences_with_phrases = list(bigram_transformer[sentences])\n",
        "\n",
        "# Xây dựng mô hình Word2Vec với Skip-gram\n",
        "model_word2vec_skipgram = Word2Vec(sentences_with_phrases,\n",
        "                                   vector_size=150,\n",
        "                                   window=10,\n",
        "                                   min_count=10,\n",
        "                                   workers=4,\n",
        "                                   sg=1,  # Sử dụng Skip-gram\n",
        "                                   negative=5)\n",
        "model_word2vec_skipgram.save(model_path)  # Lưu mô hình tại đường dẫn đã chỉ định"
      ],
      "metadata": {
        "id": "lRAnj0pMvxD8"
      },
      "execution_count": 103,
      "outputs": []
    },
    {
      "cell_type": "code",
      "source": [
        "# Lấy số lượng từ trong từ vựng\n",
        "total_words_skipgram = len(model_word2vec_skipgram.wv.key_to_index)\n",
        "total_words_skipgram"
      ],
      "metadata": {
        "colab": {
          "base_uri": "https://localhost:8080/"
        },
        "id": "zX4GIv1IwYME",
        "outputId": "49b9a230-468a-42b0-aeb5-ece8bb0231d1"
      },
      "execution_count": 104,
      "outputs": [
        {
          "output_type": "execute_result",
          "data": {
            "text/plain": [
              "1499"
            ]
          },
          "metadata": {},
          "execution_count": 104
        }
      ]
    },
    {
      "cell_type": "code",
      "source": [
        "model_size_skipgram = model_word2vec_skipgram.estimate_memory()\n",
        "model_size_skipgram"
      ],
      "metadata": {
        "colab": {
          "base_uri": "https://localhost:8080/"
        },
        "id": "uG33Qc-c1WqJ",
        "outputId": "d6e70886-7a1a-4411-acc6-7f2a95de2fd4"
      },
      "execution_count": 105,
      "outputs": [
        {
          "output_type": "execute_result",
          "data": {
            "text/plain": [
              "{'vocab': 749500, 'vectors': 899400, 'syn1neg': 899400, 'total': 2548300}"
            ]
          },
          "metadata": {},
          "execution_count": 105
        }
      ]
    },
    {
      "cell_type": "code",
      "source": [
        "# Hiển thị từ có độ tương đồng cao nhất\n",
        "for word, score in model_word2vec_skipgram.wv.most_similar(\"Hồ_Chí_Minh\"):\n",
        "    print(word, score)"
      ],
      "metadata": {
        "colab": {
          "base_uri": "https://localhost:8080/"
        },
        "id": "gYqphuT0v1N0",
        "outputId": "ce8f0b83-1d32-48a8-85b3-03cde1d006eb"
      },
      "execution_count": 106,
      "outputs": [
        {
          "output_type": "stream",
          "name": "stdout",
          "text": [
            "Cộng_sản 0.9746757745742798\n",
            "Nguyễn_Ái_Quốc 0.9611116647720337\n",
            "Đảng 0.9587249159812927\n",
            "Hội 0.9585098028182983\n",
            "Cộng_sản_Việt_Nam 0.9570621252059937\n",
            "cách_mạng 0.9565807580947876\n",
            "nhân_dân 0.9523436427116394\n",
            "Ông 0.9507482647895813\n",
            "Trung_ương_Đảng 0.9445655345916748\n",
            "Đại_hội 0.9401604533195496\n"
          ]
        }
      ]
    },
    {
      "cell_type": "code",
      "source": [
        "# Tính toán khoảng cách giữa hai từ\n",
        "word1 = \"máy_tính\"\n",
        "word2 = \"Độc_lập\"\n",
        "distance = model_word2vec_skipgram.wv.distance(word1, word2)\n",
        "print(f\"Khoảng cách giữa '{word1}' và '{word2}': {distance}\")"
      ],
      "metadata": {
        "colab": {
          "base_uri": "https://localhost:8080/"
        },
        "id": "_UkzTRuBwaro",
        "outputId": "2cfbc098-a506-4677-bdfc-06d61a51204e"
      },
      "execution_count": 107,
      "outputs": [
        {
          "output_type": "stream",
          "name": "stdout",
          "text": [
            "Khoảng cách giữa 'máy_tính' và 'Độc_lập': 0.2987360954284668\n"
          ]
        }
      ]
    },
    {
      "cell_type": "code",
      "source": [
        "#Trích xuất vectơ word embedding của một từ\n",
        "word = \"máy_tính\"\n",
        "embedding_vector = model_word2vec_skipgram.wv.get_vector(word)\n",
        "print(f\"Vectơ word embedding của '{word}': {embedding_vector}\")"
      ],
      "metadata": {
        "colab": {
          "base_uri": "https://localhost:8080/"
        },
        "id": "azyag6JX1fBk",
        "outputId": "3b6fa069-98d6-4c46-d49a-ff27071944f1"
      },
      "execution_count": 108,
      "outputs": [
        {
          "output_type": "stream",
          "name": "stdout",
          "text": [
            "Vectơ word embedding của 'máy_tính': [ 9.21414979e-03 -2.37077903e-02  7.19805807e-02  6.99053556e-02\n",
            " -1.78434238e-01 -1.39620617e-01  7.33235255e-02  1.08304478e-01\n",
            "  8.16523582e-02  1.05543055e-01  1.72309682e-01 -1.16241492e-01\n",
            " -6.59053028e-02  7.67557397e-02  1.36096282e-02 -7.76444972e-02\n",
            "  1.58637494e-01 -2.38246158e-01 -4.20535952e-02  2.71192454e-02\n",
            " -1.30783856e-01 -6.57908916e-02 -9.85120013e-02 -9.40749794e-02\n",
            "  2.55292300e-02  1.18832299e-02 -2.15396777e-01 -1.30772963e-01\n",
            " -9.83203501e-02 -2.82257907e-02  1.42870858e-01  1.76632181e-01\n",
            "  3.73144448e-02  1.22488954e-03 -2.12360874e-01 -2.14468483e-02\n",
            "  9.19374749e-02  5.10174595e-03 -2.64263283e-02 -7.85869956e-02\n",
            "  3.80759202e-02  6.04614094e-02 -1.95041802e-02 -6.19242154e-02\n",
            "  7.14413375e-02  4.60656397e-02 -1.95198227e-03  2.05068365e-01\n",
            "  1.38495630e-02  3.46098617e-02 -2.29503959e-02 -7.58134648e-02\n",
            " -2.15726048e-01  4.75451797e-02 -1.64538417e-02  1.48482218e-01\n",
            " -6.61102589e-03  1.39744341e-01 -1.23194642e-01  7.13998005e-02\n",
            " -3.84180364e-03 -4.40982496e-03  2.09882837e-02  6.19013198e-02\n",
            " -1.56064220e-02  9.60852280e-02 -1.22539043e-01 -6.04597814e-02\n",
            " -1.15461059e-01 -1.28616333e-01 -3.43783647e-02  4.91704904e-02\n",
            "  7.35528469e-02  2.76466068e-02 -2.13784397e-01 -1.92416715e-04\n",
            "  5.83511479e-02  1.60869226e-01 -1.27662092e-01 -1.24188438e-02\n",
            " -1.11331437e-02 -1.67980939e-01  8.68393481e-02  2.26980731e-01\n",
            " -5.77405952e-02  7.73832649e-02 -1.17371753e-01 -1.03679001e-01\n",
            "  7.98053890e-02 -5.66294082e-02  1.37068227e-01 -2.25188583e-02\n",
            "  1.42120793e-01 -1.54609114e-01  8.35322067e-02 -3.15489657e-02\n",
            "  3.17699611e-02  9.48500708e-02 -7.34755918e-02  1.06593452e-01\n",
            "  1.09289944e-01 -2.99680550e-02  1.12231724e-01  1.48069263e-01\n",
            " -5.27392030e-02 -7.81555697e-02  1.03316478e-01  1.57118633e-01\n",
            " -8.84396210e-02 -1.02134190e-01  2.01647934e-02 -1.25359714e-01\n",
            "  1.78565681e-02  8.94973148e-03 -5.86817414e-02  8.15576091e-02\n",
            " -1.13469347e-01  6.26166165e-02  7.04665557e-02  3.74441259e-02\n",
            "  1.22145899e-01 -6.41139597e-03  1.41280174e-01 -6.29293397e-02\n",
            "  6.34933962e-03 -9.52313319e-02  6.51070774e-02  7.23739713e-02\n",
            " -1.90803278e-02 -4.58204933e-02  1.26127183e-01  1.00439370e-01\n",
            "  1.32664032e-02 -6.51207864e-02 -1.48022845e-01  2.18078066e-02\n",
            " -1.86430693e-01 -5.68483323e-02 -5.92570286e-03  5.68657517e-02\n",
            "  2.22467124e-01  5.87722287e-03  4.65278439e-02 -9.46357846e-02\n",
            " -1.45468190e-02  9.88572463e-02 -8.72009471e-02 -1.73745856e-01\n",
            "  1.81804702e-01 -2.84965690e-02]\n"
          ]
        }
      ]
    },
    {
      "cell_type": "markdown",
      "source": [
        "### Word2Vec CBOW"
      ],
      "metadata": {
        "id": "iNNSTLD6wmEV"
      }
    },
    {
      "cell_type": "code",
      "source": [
        "# Xử lý các cặp từ thông dụng hoặc cụm từ\n",
        "bigram_transformer = Phraser(Phrases(sentences, min_count=5, threshold=100))\n",
        "sentences_with_phrases = list(bigram_transformer[sentences])"
      ],
      "metadata": {
        "id": "VrpfmuVXwhEd"
      },
      "execution_count": 110,
      "outputs": []
    },
    {
      "cell_type": "code",
      "source": [
        "# Xây dựng mô hình Word2Vec với CBOW\n",
        "model_word2vec_cbow = Word2Vec(sentences_with_phrases,\n",
        "                               vector_size=150,\n",
        "                               window=10,\n",
        "                               min_count=10,\n",
        "                               workers=4,\n",
        "                               sg=0,  # Sử dụng CBOW\n",
        "                               negative=5)\n",
        "model_word2vec_cbow.save(model_path)  # Lưu mô hình tại đường dẫn đã chỉ định"
      ],
      "metadata": {
        "id": "e3ZzldBawokU"
      },
      "execution_count": 111,
      "outputs": []
    },
    {
      "cell_type": "code",
      "source": [
        "# Hiển thị từ có độ tương đồng cao nhất\n",
        "for word, score in model_word2vec_cbow.wv.most_similar(\"Hồ_Chí_Minh\"):\n",
        "    print(word, score)"
      ],
      "metadata": {
        "colab": {
          "base_uri": "https://localhost:8080/"
        },
        "id": "12N69g2JwrLO",
        "outputId": "0f1039d6-96c6-4980-a612-99063274f594"
      },
      "execution_count": 112,
      "outputs": [
        {
          "output_type": "stream",
          "name": "stdout",
          "text": [
            "Việt_Nam 0.9995889067649841\n",
            "Đảng 0.9974742531776428\n",
            "tổ_chức 0.9972620010375977\n",
            "dân_tộc 0.9970619082450867\n",
            "chủ_nghĩa 0.9963573813438416\n",
            "gọi 0.9961419701576233\n",
            "đi 0.9960340857505798\n",
            "dân 0.9959524869918823\n",
            "miền_Nam 0.9959455728530884\n",
            "Trung_Quốc 0.9957913756370544\n"
          ]
        }
      ]
    },
    {
      "cell_type": "code",
      "source": [
        "similar_words = model_word2vec_skipgram.wv.most_similar(\"Ủy_ban\")"
      ],
      "metadata": {
        "id": "xbaryuOb6gRx"
      },
      "execution_count": 113,
      "outputs": []
    },
    {
      "cell_type": "code",
      "source": [
        "# Tính toán khoảng cách giữa hai từ\n",
        "word1 = \"máy_tính\"\n",
        "word2 = \"Độc_lập\"\n",
        "distance = model_word2vec_cbow.wv.distance(word1, word2)\n",
        "print(f\"Khoảng cách giữa '{word1}' và '{word2}': {distance}\")"
      ],
      "metadata": {
        "colab": {
          "base_uri": "https://localhost:8080/"
        },
        "id": "15sMbOyjwzwI",
        "outputId": "70ac563b-d1d3-4013-8afc-aa3e8048ad48"
      },
      "execution_count": 114,
      "outputs": [
        {
          "output_type": "stream",
          "name": "stdout",
          "text": [
            "Khoảng cách giữa 'máy_tính' và 'Độc_lập': 0.0029338598251342773\n"
          ]
        }
      ]
    },
    {
      "cell_type": "code",
      "source": [
        "# Tính toán khoảng cách giữa hai từ\n",
        "word1 = \"Nhân_dân\"\n",
        "word2 = \"Hoa_hậu\"\n",
        "distance = model_word2vec_cbow.wv.distance(word1, word2)\n",
        "print(f\"Khoảng cách giữa '{word1}' và '{word2}': {distance}\")"
      ],
      "metadata": {
        "colab": {
          "base_uri": "https://localhost:8080/"
        },
        "id": "-mOY-u3Tw5I-",
        "outputId": "bf1c9873-d928-4899-a409-23ef8b7a4c97"
      },
      "execution_count": 115,
      "outputs": [
        {
          "output_type": "stream",
          "name": "stdout",
          "text": [
            "Khoảng cách giữa 'Nhân_dân' và 'Hoa_hậu': 0.001848757266998291\n"
          ]
        }
      ]
    },
    {
      "cell_type": "code",
      "source": [
        "#Trích xuất vectơ word embedding của một từ\n",
        "word = \"máy_tính\"\n",
        "embedding_vector = model_word2vec_cbow.wv.get_vector(word)\n",
        "print(f\"Vectơ word embedding của '{word}': {embedding_vector}\")"
      ],
      "metadata": {
        "colab": {
          "base_uri": "https://localhost:8080/"
        },
        "id": "UUmXM4xY2bwz",
        "outputId": "843c9d4d-b2ee-4b04-d3a8-145889abad6e"
      },
      "execution_count": 116,
      "outputs": [
        {
          "output_type": "stream",
          "name": "stdout",
          "text": [
            "Vectơ word embedding của 'máy_tính': [ 7.22764283e-02 -6.81587234e-02 -5.91510758e-02  3.05388179e-02\n",
            " -7.15376437e-02 -4.40696850e-02  3.11464481e-02  8.40661824e-02\n",
            "  2.94721592e-02  4.07634825e-02  7.99230710e-02 -8.47586468e-02\n",
            " -1.00372814e-01  3.55120152e-02 -5.36443219e-02 -3.90931182e-02\n",
            "  9.60518047e-02 -1.04159862e-01  1.77478958e-02  5.64837456e-02\n",
            " -1.03183381e-01 -7.65839815e-02  2.54019629e-02 -5.69133759e-02\n",
            "  5.88255450e-02  3.75982635e-02 -2.08237007e-01 -1.00474589e-01\n",
            "  1.33413747e-02 -1.03509039e-01  4.36312854e-02  1.04948305e-01\n",
            " -6.54627290e-03 -4.25304063e-02 -8.58521909e-02  4.00039367e-02\n",
            "  1.37923449e-01  1.08353170e-02  2.69777402e-02 -2.90709976e-02\n",
            "  1.23108961e-02  3.84281878e-03 -3.18828784e-02 -2.71406565e-02\n",
            "  7.34863207e-02 -7.83002353e-04  2.27593798e-02  7.30760098e-02\n",
            " -2.72696242e-02  9.64274034e-02 -5.75079061e-02 -3.88665148e-03\n",
            " -9.08301845e-02  9.73756090e-02 -2.79374793e-02  1.00106135e-01\n",
            "  1.70490295e-02  7.37249106e-02 -8.15154836e-02  7.27734789e-02\n",
            " -3.59617211e-02 -5.98026663e-02 -7.98375462e-04  5.40177338e-02\n",
            "  4.48652980e-04  2.93998001e-03 -2.51044706e-02 -7.11083338e-02\n",
            " -9.47015211e-02 -8.77646282e-02  5.51194660e-02  9.88369584e-02\n",
            "  6.53416738e-02 -1.29848108e-01 -1.16387241e-01 -1.32486420e-02\n",
            " -2.52671465e-02  9.39824581e-02 -1.00770324e-01  6.62483275e-02\n",
            " -2.88190437e-03 -1.01308040e-01 -8.24394356e-03  1.84186712e-01\n",
            " -6.14822470e-02  3.87024730e-02  1.74436718e-02  5.72903361e-03\n",
            "  9.67018530e-02 -1.15642048e-01  1.03910230e-01 -1.12604514e-01\n",
            "  8.86812136e-02  1.40621159e-02  1.09923102e-01 -4.16793022e-03\n",
            "  6.16456829e-02  1.81874037e-02 -4.58768643e-02  1.20853752e-01\n",
            "  4.47927490e-02  6.78464584e-03  1.09856591e-01  8.64171460e-02\n",
            " -2.30010860e-02 -6.98584914e-02  6.28195331e-02  2.32147351e-02\n",
            " -1.58369988e-01 -1.04748607e-01  4.32366952e-02 -1.02154940e-01\n",
            "  5.67117520e-02  3.92902549e-03 -1.89224333e-02  1.17526293e-01\n",
            " -3.39959674e-02  1.53090172e-02  2.05226522e-03  1.92631676e-04\n",
            "  5.02177253e-02  7.66851231e-02  8.80273804e-02 -8.35958049e-02\n",
            "  2.90772524e-02 -9.70862620e-03  1.05005607e-01  7.11938143e-02\n",
            " -6.64390475e-02  3.98437567e-02  1.33805826e-01  7.89265931e-02\n",
            "  9.93402302e-03 -7.20041394e-02 -1.69272957e-04 -1.69462373e-03\n",
            " -1.36582330e-01 -3.88455461e-03 -9.83191729e-02 -1.07645197e-02\n",
            "  1.25112474e-01  1.12125771e-02  4.25940864e-02  3.09443958e-02\n",
            "  1.06177315e-01  8.05711374e-02 -1.21002264e-01 -4.02743593e-02\n",
            "  7.36553594e-02 -2.06883550e-02]\n"
          ]
        }
      ]
    },
    {
      "cell_type": "code",
      "source": [],
      "metadata": {
        "id": "-C93IAjv3bsF"
      },
      "execution_count": 116,
      "outputs": []
    },
    {
      "cell_type": "code",
      "source": [
        "def text_to_vector(text):\n",
        "    words = text.split()\n",
        "    word_vectors = [model_word2vec_skipgram.wv[word] for word in words if word in model_word2vec_skipgram.wv]\n",
        "    if word_vectors:\n",
        "        text_vector = np.mean(word_vectors, axis=0)\n",
        "        return text_vector\n",
        "    return None\n",
        "\n",
        "text = \"Đây là một ví dụ về việc biểu diễn văn bản thành vectơ word embedding.\"\n",
        "vector = text_to_vector(text)\n",
        "print(vector)\n"
      ],
      "metadata": {
        "colab": {
          "base_uri": "https://localhost:8080/"
        },
        "id": "X1W13tagHNTA",
        "outputId": "d09190c5-a999-4d31-e8e1-7cb41f1ef52c"
      },
      "execution_count": 120,
      "outputs": [
        {
          "output_type": "stream",
          "name": "stdout",
          "text": [
            "[ 0.0667848   0.04835515  0.02356707  0.03906149 -0.08103332 -0.08149151\n",
            "  0.13780254  0.02312153  0.1368707   0.11594494  0.20217371 -0.1029715\n",
            " -0.07466764  0.00420736 -0.01230151 -0.04544871  0.19280457 -0.20543839\n",
            "  0.09704439  0.04379777 -0.09912652 -0.04161289 -0.00045021 -0.30591378\n",
            "  0.16810878  0.03712108 -0.2774061  -0.2048796   0.14280719  0.11594957\n",
            "  0.2756417   0.19159462 -0.10538628  0.16450305 -0.17825226  0.01416332\n",
            " -0.03075543 -0.05115775 -0.03463442  0.0403084  -0.06821755  0.03887682\n",
            "  0.08957853  0.00899635  0.00948961  0.00222909  0.1291119   0.16230942\n",
            " -0.04815838  0.03730586  0.02087006 -0.02437323 -0.2527692   0.02324831\n",
            " -0.06395498  0.17836146  0.00858674  0.12048477 -0.16132955  0.03454606\n",
            "  0.03733915 -0.02920771 -0.04046715  0.05973108 -0.04190243  0.02263413\n",
            "  0.00463312 -0.08933558 -0.04207147 -0.06136133  0.03603207 -0.04750417\n",
            "  0.06965746  0.05769327 -0.35400835 -0.07668274  0.01166026  0.2014376\n",
            " -0.25876725  0.19433947 -0.04073426 -0.15681566  0.01647012  0.14074686\n",
            "  0.09224365  0.15677477 -0.28856182 -0.08019195 -0.0220345  -0.20442843\n",
            "  0.19867331 -0.11455097  0.13799764 -0.1741516   0.017064   -0.1003086\n",
            "  0.04740357  0.03698574 -0.10308161  0.12696163  0.12988625  0.03335996\n",
            "  0.05757513  0.23513924  0.0246221  -0.02925462  0.08164994  0.12802534\n",
            " -0.10291938 -0.03374429 -0.0397978  -0.15808655 -0.13313659 -0.0136306\n",
            " -0.02365452 -0.01726219 -0.20060325 -0.02382205  0.15965393  0.16712584\n",
            "  0.18908732 -0.09162315  0.18014239 -0.03174159 -0.03373087 -0.21231706\n",
            "  0.20407528  0.10659253  0.01224742 -0.15047331  0.12557302  0.01069375\n",
            " -0.00950689  0.07019036 -0.14107327 -0.03211805 -0.17160942 -0.02336599\n",
            "  0.09576324  0.00835374  0.12644517  0.04425663  0.06469164 -0.17601572\n",
            " -0.06212178  0.04255767 -0.18878518 -0.12270115  0.16475306  0.12100878]\n"
          ]
        }
      ]
    },
    {
      "cell_type": "markdown",
      "source": [
        "###Mở rộng từ vựng mô hình với dữ liệu mới:"
      ],
      "metadata": {
        "id": "GB7P9TvwNf29"
      }
    },
    {
      "cell_type": "code",
      "source": [
        "# Đọc dữ liệu mới\n",
        "new_data = pd.read_csv('/content/drive/MyDrive/Data full/Data_WE/data_new.txt', delimiter='\\t', header=None, names=['text'])\n",
        "new_data['text_tokenized'] = new_data['text'].apply(ViTokenizer.tokenize)\n",
        "\n",
        "# Tiền xử lý dữ liệu mới\n",
        "new_data['text_cleaned'] = new_data['text_tokenized'].apply(lambda x: ' '.join([word for word in x.split() if word not in stopwords_set]))\n",
        "\n",
        "# Chuyển dữ liệu mới thành danh sách các từ\n",
        "new_sentences = [text.split() for text in new_data['text_cleaned']]\n",
        "\n",
        "# Mở rộng từ vựng hiện có với dữ liệu mới\n",
        "model_word2vec_skipgram.build_vocab(new_sentences, update=True)\n",
        "model_word2vec_cbow.build_vocab(new_sentences, update=True)\n",
        "\n",
        "# Huấn luyện lại mô hình với dữ liệu mới\n",
        "model_word2vec_skipgram.train(new_sentences, total_examples=model_word2vec_skipgram.corpus_count, epochs=model_word2vec_skipgram.epochs)\n",
        "model_word2vec_cbow.train(new_sentences, total_examples=model_word2vec_cbow.corpus_count, epochs=model_word2vec_cbow.epochs)\n",
        "\n",
        "# Lưu mô hình đã được mở rộng từ vựng\n",
        "model_word2vec_skipgram.save('/content/drive/MyDrive/Data full/word2vec_skipgram_extended.model')\n",
        "model_word2vec_cbow.save('/content/drive/MyDrive/Data full/word2vec_cbow_extended.model')"
      ],
      "metadata": {
        "colab": {
          "base_uri": "https://localhost:8080/"
        },
        "id": "q2CIoiec_6IG",
        "outputId": "95c43a50-6be9-4d3c-e42f-77ef9e669790"
      },
      "execution_count": 122,
      "outputs": [
        {
          "output_type": "stream",
          "name": "stderr",
          "text": [
            "WARNING:gensim.models.word2vec:Effective 'alpha' higher than previous training cycles\n",
            "WARNING:gensim.models.word2vec:Effective 'alpha' higher than previous training cycles\n"
          ]
        }
      ]
    },
    {
      "cell_type": "code",
      "source": [
        "# Lấy số lượng từ trong từ vựng\n",
        "total_words_skipgram = len(model_word2vec_skipgram.wv.key_to_index)\n",
        "total_words_skipgram"
      ],
      "metadata": {
        "colab": {
          "base_uri": "https://localhost:8080/"
        },
        "id": "gNpyTN52GVaB",
        "outputId": "b94c7df9-a9b2-4b40-ccd6-564362f4a777"
      },
      "execution_count": 123,
      "outputs": [
        {
          "output_type": "execute_result",
          "data": {
            "text/plain": [
              "2545"
            ]
          },
          "metadata": {},
          "execution_count": 123
        }
      ]
    },
    {
      "cell_type": "markdown",
      "source": [
        "### biểu đồ được tạo từ mô hình Word2Vec skip-gram"
      ],
      "metadata": {
        "id": "QhleC40cME-h"
      }
    },
    {
      "cell_type": "code",
      "source": [
        "import matplotlib.pyplot as plt\n",
        "\n",
        "# Lấy danh sách các từ trong từ vựng\n",
        "vocab_words_skipgram = list(model_word2vec_skipgram.wv.index_to_key)\n",
        "\n",
        "# Lấy vectơ word embedding cho một số từ\n",
        "word_vectors_skipgram = [model_word2vec_skipgram.wv[word] for word in vocab_words_skipgram[:100]]\n",
        "\n",
        "# Thực hiện phân tích giảm chiều dữ liệu để biểu diễn các vectơ word embedding trong không gian 2D\n",
        "from sklearn.decomposition import PCA\n",
        "pca_skipgram = PCA(n_components=2)\n",
        "word_vectors_2d_skipgram = pca_skipgram.fit_transform(word_vectors_skipgram)\n",
        "\n",
        "# Tạo biểu đồ từ\n",
        "plt.figure(figsize=(10, 10))\n",
        "plt.scatter(word_vectors_2d_skipgram[:, 0], word_vectors_2d_skipgram[:, 1])\n",
        "\n",
        "# Gán nhãn cho từng điểm trên biểu đồ\n",
        "for i, word in enumerate(vocab_words_skipgram[:100]):\n",
        "    plt.annotate(word, xy=(word_vectors_2d_skipgram[i, 0], word_vectors_2d_skipgram[i, 1]), fontsize=8)\n",
        "\n",
        "# Hiển thị biểu đồ\n",
        "plt.show()"
      ],
      "metadata": {
        "colab": {
          "base_uri": "https://localhost:8080/",
          "height": 830
        },
        "id": "DpfrwjNVJIU4",
        "outputId": "625a2d10-62a5-468f-8a25-bd29b2794745"
      },
      "execution_count": 138,
      "outputs": [
        {
          "output_type": "display_data",
          "data": {
            "text/plain": [
              "<Figure size 1000x1000 with 1 Axes>"
            ],
            "image/png": "[encoded data removed]"
          },
          "metadata": {}
        }
      ]
    },
    {
      "cell_type": "code",
      "source": [],
      "metadata": {
        "id": "MjJzsIvXMhvW"
      },
      "execution_count": null,
      "outputs": []
    }
  ]
}
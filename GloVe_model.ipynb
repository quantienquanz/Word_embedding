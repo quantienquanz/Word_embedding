{
  "nbformat": 4,
  "nbformat_minor": 0,
  "metadata": {
    "colab": {
      "provenance": []
    },
    "kernelspec": {
      "name": "python3",
      "display_name": "Python 3"
    },
    "language_info": {
      "name": "python"
    }
  },
  "cells": [
    {
      "cell_type": "code",
      "execution_count": 1,
      "metadata": {
        "colab": {
          "base_uri": "https://localhost:8080/"
        },
        "id": "ZjRKuyXa7Gx5",
        "outputId": "1013550d-b2e3-4728-f029-357310995a51"
      },
      "outputs": [
        {
          "output_type": "stream",
          "name": "stdout",
          "text": [
            "Mounted at /content/drive\n"
          ]
        }
      ],
      "source": [
        "from google.colab import drive\n",
        "drive.mount('/content/drive')"
      ]
    },
    {
      "cell_type": "code",
      "source": [
        "pip install pyvi"
      ],
      "metadata": {
        "colab": {
          "base_uri": "https://localhost:8080/"
        },
        "id": "hqneMqU67OYN",
        "outputId": "b6d218c0-473c-4d57-b7dc-8fec76480ef0"
      },
      "execution_count": 2,
      "outputs": [
        {
          "output_type": "stream",
          "name": "stdout",
          "text": [
            "Collecting pyvi\n",
            "  Downloading pyvi-0.1.1-py2.py3-none-any.whl (8.5 MB)\n",
            "\u001b[2K     \u001b[90m━━━━━━━━━━━━━━━━━━━━━━━━━━━━━━━━━━━━━━━━\u001b[0m \u001b[32m8.5/8.5 MB\u001b[0m \u001b[31m56.1 MB/s\u001b[0m eta \u001b[36m0:00:00\u001b[0m\n",
            "\u001b[?25hRequirement already satisfied: scikit-learn in /usr/local/lib/python3.10/dist-packages (from pyvi) (1.2.2)\n",
            "Collecting sklearn-crfsuite (from pyvi)\n",
            "  Downloading sklearn_crfsuite-0.3.6-py2.py3-none-any.whl (12 kB)\n",
            "Requirement already satisfied: numpy>=1.17.3 in /usr/local/lib/python3.10/dist-packages (from scikit-learn->pyvi) (1.22.4)\n",
            "Requirement already satisfied: scipy>=1.3.2 in /usr/local/lib/python3.10/dist-packages (from scikit-learn->pyvi) (1.10.1)\n",
            "Requirement already satisfied: joblib>=1.1.1 in /usr/local/lib/python3.10/dist-packages (from scikit-learn->pyvi) (1.3.1)\n",
            "Requirement already satisfied: threadpoolctl>=2.0.0 in /usr/local/lib/python3.10/dist-packages (from scikit-learn->pyvi) (3.1.0)\n",
            "Collecting python-crfsuite>=0.8.3 (from sklearn-crfsuite->pyvi)\n",
            "  Downloading python_crfsuite-0.9.9-cp310-cp310-manylinux_2_17_x86_64.manylinux2014_x86_64.whl (993 kB)\n",
            "\u001b[2K     \u001b[90m━━━━━━━━━━━━━━━━━━━━━━━━━━━━━━━━━━━━━━\u001b[0m \u001b[32m993.5/993.5 kB\u001b[0m \u001b[31m63.0 MB/s\u001b[0m eta \u001b[36m0:00:00\u001b[0m\n",
            "\u001b[?25hRequirement already satisfied: six in /usr/local/lib/python3.10/dist-packages (from sklearn-crfsuite->pyvi) (1.16.0)\n",
            "Requirement already satisfied: tabulate in /usr/local/lib/python3.10/dist-packages (from sklearn-crfsuite->pyvi) (0.8.10)\n",
            "Requirement already satisfied: tqdm>=2.0 in /usr/local/lib/python3.10/dist-packages (from sklearn-crfsuite->pyvi) (4.65.0)\n",
            "Installing collected packages: python-crfsuite, sklearn-crfsuite, pyvi\n",
            "Successfully installed python-crfsuite-0.9.9 pyvi-0.1.1 sklearn-crfsuite-0.3.6\n"
          ]
        }
      ]
    },
    {
      "cell_type": "code",
      "source": [
        "import os\n",
        "import numpy as np\n",
        "import pandas as pd\n",
        "from pyvi import ViTokenizer\n",
        "from scipy.spatial.distance import cosine, euclidean\n",
        "from sklearn.manifold import TSNE\n",
        "import matplotlib.pyplot as plt"
      ],
      "metadata": {
        "id": "_1ktX-Ug7Tc1"
      },
      "execution_count": 23,
      "outputs": []
    },
    {
      "cell_type": "markdown",
      "source": [
        "### Tiền xử lý dữ liệu"
      ],
      "metadata": {
        "id": "O59oDpHKEu-E"
      }
    },
    {
      "cell_type": "code",
      "source": [
        "pathdata = '/content/drive/MyDrive/Data full/merged_data (2).txt'\n",
        "stopwords_path = '/content/drive/MyDrive/Data full/stopwords.csv'\n",
        "model_path = '/content/drive/MyDrive/Data full/GloVe_model.model'"
      ],
      "metadata": {
        "id": "cdanV5MN7Yon"
      },
      "execution_count": 4,
      "outputs": []
    },
    {
      "cell_type": "code",
      "source": [
        "# Đọc dữ liệu từ file\n",
        "train_data = pd.read_csv(pathdata, delimiter='\\t', header=None, names=['text'])\n",
        "train_data['text_tokenized'] = train_data['text'].apply(ViTokenizer.tokenize)"
      ],
      "metadata": {
        "id": "IgWF6O6_7f6P"
      },
      "execution_count": 5,
      "outputs": []
    },
    {
      "cell_type": "code",
      "source": [
        "# Đọc danh sách stopwords\n",
        "stopwords_data = pd.read_csv(stopwords_path, sep=\"\\t\", encoding='utf-8')\n",
        "stopwords_set = set(stopwords_data['stopwords'])"
      ],
      "metadata": {
        "id": "WQG7nZ_Q7h4P"
      },
      "execution_count": 6,
      "outputs": []
    },
    {
      "cell_type": "code",
      "source": [
        "# Tiền xử lý dữ liệu\n",
        "train_data['text_cleaned'] = train_data['text_tokenized'].apply(lambda x: ' '.join([word for word in x.split() if word not in stopwords_set]))"
      ],
      "metadata": {
        "id": "6KVZAeRT7k8I"
      },
      "execution_count": 7,
      "outputs": []
    },
    {
      "cell_type": "code",
      "source": [
        "# Chuyển dữ liệu huấn luyện thành danh sách các từ\n",
        "sentences = [text.split() for text in train_data['text_cleaned']]"
      ],
      "metadata": {
        "id": "phJI0naD7m_2"
      },
      "execution_count": 8,
      "outputs": []
    },
    {
      "cell_type": "markdown",
      "source": [
        "### Xây dựng mô hình"
      ],
      "metadata": {
        "id": "MTmsc8pFEzAP"
      }
    },
    {
      "cell_type": "code",
      "source": [
        "# Tạo từ điển (vocabulary)\n",
        "vocabulary = set([word for sentence in sentences for word in sentence])\n",
        "vocabulary_size = len(vocabulary)\n",
        "word_to_index = {word: index for index, word in enumerate(vocabulary)}"
      ],
      "metadata": {
        "id": "gOWxjRdB7pNK"
      },
      "execution_count": 9,
      "outputs": []
    },
    {
      "cell_type": "code",
      "source": [
        "# Xây dựng ma trận đồng xuất hiện\n",
        "cooccurrence_matrix = np.zeros((vocabulary_size, vocabulary_size))\n",
        "window_size = 5\n",
        "\n",
        "for sentence in sentences:\n",
        "    for i in range(len(sentence)):\n",
        "        center_word = sentence[i]\n",
        "        center_word_index = word_to_index[center_word]\n",
        "\n",
        "        left_context = sentence[max(0, i - window_size):i]\n",
        "        right_context = sentence[i + 1:i + window_size + 1]\n",
        "\n",
        "        for context_word in left_context + right_context:\n",
        "            context_word_index = word_to_index[context_word]\n",
        "            cooccurrence_matrix[center_word_index][context_word_index] += 1"
      ],
      "metadata": {
        "id": "6_3oFkCh7q0O"
      },
      "execution_count": 10,
      "outputs": []
    },
    {
      "cell_type": "code",
      "source": [
        "# Tính toán ma trận trọng số\n",
        "weighting_factor = 0.75"
      ],
      "metadata": {
        "id": "Px1y6GrY8Ckw"
      },
      "execution_count": 11,
      "outputs": []
    },
    {
      "cell_type": "code",
      "source": [
        "# Khởi tạo ma trận embedding và vector bias\n",
        "embedding_dim = 100\n",
        "word_embedding_matrix = np.random.randn(vocabulary_size, embedding_dim) * 0.01\n",
        "context_embedding_matrix = np.random.randn(vocabulary_size, embedding_dim) * 0.01\n",
        "bias_vector = np.random.randn(vocabulary_size) * 0.01"
      ],
      "metadata": {
        "id": "eEnowgoh8FKy"
      },
      "execution_count": 12,
      "outputs": []
    },
    {
      "cell_type": "code",
      "source": [
        "# Huấn luyện mô hình GloVe\n",
        "learning_rate = 0.01\n",
        "epochs = 100\n",
        "\n",
        "for epoch in range(epochs):\n",
        "    for sentence in sentences:\n",
        "        for i in range(len(sentence)):\n",
        "            center_word = sentence[i]\n",
        "            center_word_index = word_to_index[center_word]\n",
        "\n",
        "            left_context = sentence[max(0, i - window_size):i]\n",
        "            right_context = sentence[i + 1:i + window_size + 1]\n",
        "\n",
        "            for context_word in left_context + right_context:\n",
        "                context_word_index = word_to_index[context_word]\n",
        "                cooccurrence = cooccurrence_matrix[center_word_index][context_word_index]\n",
        "\n",
        "                if cooccurrence > 0:\n",
        "                    weight = np.log(cooccurrence)\n",
        "                    error = (\n",
        "                        np.dot(word_embedding_matrix[center_word_index], context_embedding_matrix[context_word_index]) +\n",
        "                        bias_vector[center_word_index] +\n",
        "                        bias_vector[context_word_index] -\n",
        "                        weight\n",
        "                    )\n",
        "\n",
        "                    word_embedding_matrix[center_word_index] -= learning_rate * error * context_embedding_matrix[context_word_index]\n",
        "                    context_embedding_matrix[context_word_index] -= learning_rate * error * word_embedding_matrix[center_word_index]\n",
        "                    bias_vector[center_word_index] -= learning_rate * error\n",
        "                    bias_vector[context_word_index] -= learning_rate * error"
      ],
      "metadata": {
        "id": "vC-pgof28GzH"
      },
      "execution_count": 13,
      "outputs": []
    },
    {
      "cell_type": "code",
      "source": [
        "# Lưu mô hình\n",
        "np.savez_compressed(model_path, word_embedding_matrix=word_embedding_matrix, vocabulary=list(vocabulary))"
      ],
      "metadata": {
        "id": "SN6_Em1d8JU-"
      },
      "execution_count": 14,
      "outputs": []
    },
    {
      "cell_type": "code",
      "source": [
        "# Load ma trận nhúng từ\n",
        "model_data = np.load(\"/content/drive/MyDrive/Data full/GloVe_model.model.npz\", allow_pickle=True)\n",
        "word_embedding_matrix = model_data['word_embedding_matrix']\n",
        "vocabulary = set(model_data['vocabulary'])"
      ],
      "metadata": {
        "id": "xizi9HbS8No7"
      },
      "execution_count": 16,
      "outputs": []
    },
    {
      "cell_type": "code",
      "source": [
        "# Tìm từ có độ tương đồng cao nhất với từ \"Hồ_Chí_Minh\"\n",
        "word_index = list(vocabulary).index(\"Hồ_Chí_Minh\")\n",
        "word_vector = word_embedding_matrix[word_index]\n",
        "similarity_scores = [(word, 1 - cosine(word_vector, word_embedding_matrix[index])) for index, word in enumerate(vocabulary)]\n",
        "similarity_scores.sort(key=lambda x: x[1], reverse=True)"
      ],
      "metadata": {
        "id": "ZXZaInCG8P7U"
      },
      "execution_count": 17,
      "outputs": []
    },
    {
      "cell_type": "code",
      "source": [
        "# In các từ có độ tương đồng cao nhất\n",
        "top_similar_words = similarity_scores[:10]  # Số lượng từ có độ tương đồng cao nhất để hiển thị\n",
        "for word, similarity in top_similar_words:\n",
        "    print(f\"{word}: {similarity}\")"
      ],
      "metadata": {
        "colab": {
          "base_uri": "https://localhost:8080/"
        },
        "id": "TpJFtDjr8R9r",
        "outputId": "58e5a083-0c4c-491a-a1d2-7ec04132f16a"
      },
      "execution_count": 18,
      "outputs": [
        {
          "output_type": "stream",
          "name": "stdout",
          "text": [
            "Hồ_Chí_Minh: 1\n",
            "chân_dung: 0.5159368563726097\n",
            "UBND: 0.5157162496790365\n",
            "hội_đồng: 0.462396913480457\n",
            "chức_danh: 0.4567450531703958\n",
            "trúng_cử_chỉ: 0.446808411098893\n",
            "lẻ_tẻ: 0.44034564201660764\n",
            "cựu_chiến_binh: 0.43139423504355234\n",
            "bàn_thờ: 0.42036978793144186\n",
            "CHXHCN: 0.41614717449563576\n"
          ]
        }
      ]
    },
    {
      "cell_type": "code",
      "source": [
        "# Tính khoảng cách giữa hai từ \"máy_tính\" và \"Độc_lập\"\n",
        "word1 = \"máy_tính\"\n",
        "word2 = \"Độc_lập\"\n",
        "word1_index = list(vocabulary).index(word1)\n",
        "word2_index = list(vocabulary).index(word2)\n",
        "word1_vector = word_embedding_matrix[word1_index]\n",
        "word2_vector = word_embedding_matrix[word2_index]\n",
        "euclidean_distance = euclidean(word1_vector, word2_vector)\n",
        "print(f\"Khoảng cách giữa '{word1}' và '{word2}' là: {euclidean_distance}\")"
      ],
      "metadata": {
        "colab": {
          "base_uri": "https://localhost:8080/"
        },
        "id": "pl4QNKw28WQ9",
        "outputId": "a4e276a9-8095-4158-b550-6405a2c6e198"
      },
      "execution_count": 19,
      "outputs": [
        {
          "output_type": "stream",
          "name": "stdout",
          "text": [
            "Khoảng cách giữa 'máy_tính' và 'Độc_lập' là: 2.276637442386886\n"
          ]
        }
      ]
    },
    {
      "cell_type": "code",
      "source": [
        "# Trích xuất vectơ word embedding của từ \"máy_tính\"\n",
        "word = \"máy_tính\"\n",
        "word_index = list(vocabulary).index(word)\n",
        "word_embedding = word_embedding_matrix[word_index]\n",
        "print(f\"Vectơ word embedding của từ '{word}': {word_embedding}\")"
      ],
      "metadata": {
        "colab": {
          "base_uri": "https://localhost:8080/"
        },
        "id": "GQYTz1Gu8Yf7",
        "outputId": "6157da20-96ee-48c3-ea80-916b664794a9"
      },
      "execution_count": 20,
      "outputs": [
        {
          "output_type": "stream",
          "name": "stdout",
          "text": [
            "Vectơ word embedding của từ 'máy_tính': [-0.24776844 -0.02975664  0.10421864  0.13352544 -0.0410504   0.1038184\n",
            " -0.01704461 -0.26191039 -0.15154306  0.15532869 -0.01372871 -0.00049787\n",
            " -0.04218641 -0.08617482 -0.22091362 -0.01089802 -0.04361735  0.12721319\n",
            " -0.08273773 -0.07761826 -0.18024843 -0.28974137 -0.11076883 -0.01072916\n",
            " -0.05340018 -0.22657668 -0.11698086  0.13285114  0.27157502  0.13016267\n",
            "  0.12495206  0.06296253 -0.17956508  0.13374973 -0.03695381  0.23459228\n",
            " -0.22519543  0.1641799   0.03312371  0.18426087  0.00640753  0.03051855\n",
            " -0.05257363  0.31224528 -0.13926774 -0.09021184 -0.07465046  0.08006857\n",
            " -0.06300899 -0.29505799 -0.04704756 -0.16887663 -0.11407068  0.20960008\n",
            " -0.07478021 -0.10844136 -0.08172921 -0.03397601  0.09590554 -0.25984766\n",
            " -0.28623362  0.18394536  0.13060861 -0.17083371  0.15315226 -0.0455652\n",
            " -0.17420279  0.0575114   0.04742545 -0.06384326 -0.02828254 -0.11304162\n",
            " -0.01180852 -0.06330581  0.14679096  0.19831738  0.0382295   0.07024751\n",
            " -0.2893076   0.16254665  0.05189279  0.12635185 -0.06240216  0.15352249\n",
            " -0.47867598  0.14635326  0.05608728 -0.02632871  0.11944606 -0.00625733\n",
            " -0.24483331 -0.0389705  -0.06594463  0.2083409   0.17850961  0.17801678\n",
            " -0.20890108  0.01794317 -0.0762799  -0.14761581]\n"
          ]
        }
      ]
    },
    {
      "cell_type": "markdown",
      "source": [
        "###Visualize"
      ],
      "metadata": {
        "id": "RyYXn_2qEiyl"
      }
    },
    {
      "cell_type": "code",
      "source": [
        "# Các từ cần phân tích\n",
        "words_to_analyze = [\"máy_tính\", \"Độc_lập\", \"Hồ_Chí_Minh\", \"cách_mạng\", \"thủ_tướng\", \"Cộng_sản\", \"văn_hóa\", \"kinh_tế\", \"giáo_dục\", \"thể_thao\"]\n",
        "\n",
        "# Lấy các vector nhúng từ\n",
        "word_embeddings = []\n",
        "words = []\n",
        "\n",
        "for word in words_to_analyze:\n",
        "    if word in vocabulary:\n",
        "        word_embeddings.append(word_embedding_matrix[list(vocabulary).index(word)])\n",
        "        words.append(word)\n",
        "\n",
        "# Áp dụng t-SNE để giảm chiều\n",
        "tsne = TSNE(n_components=2, perplexity=5, random_state=42)\n",
        "word_embeddings_tsne = tsne.fit_transform(np.array(word_embeddings))\n",
        "\n",
        "# Biểu diễn các từ trên biểu đồ\n",
        "plt.figure(figsize=(10, 10))\n",
        "for i in range(len(words)):\n",
        "    x, y = word_embeddings_tsne[i, :]\n",
        "    plt.scatter(x, y)\n",
        "    plt.annotate(words[i], xy=(x, y), xytext=(5, 2), textcoords='offset points', ha='right', va='bottom')\n",
        "\n",
        "plt.xlabel('Dimension 1')\n",
        "plt.ylabel('Dimension 2')\n",
        "plt.title('Visualization of Word Embeddings')\n",
        "plt.show()"
      ],
      "metadata": {
        "colab": {
          "base_uri": "https://localhost:8080/",
          "height": 872
        },
        "id": "FsQfimhO8amQ",
        "outputId": "c8c12335-9219-4ac7-88c0-e2e807047aca"
      },
      "execution_count": 21,
      "outputs": [
        {
          "output_type": "display_data",
          "data": {
            "text/plain": [
              "<Figure size 1000x1000 with 1 Axes>"
            ],
            "image/png": "[encoded data removed]"
          },
          "metadata": {}
        }
      ]
    },
    {
      "cell_type": "code",
      "source": [],
      "metadata": {
        "id": "u-tcxHLnEeRt"
      },
      "execution_count": 21,
      "outputs": []
    }
  ]
}